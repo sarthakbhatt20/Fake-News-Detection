{
  "cells": [
    {
      "cell_type": "markdown",
      "metadata": {
        "id": "jeB5kM92f3Mo"
      },
      "source": [
        "# Fake news Detection"
      ]
    },
    {
      "cell_type": "code",
      "execution_count": null,
      "metadata": {
        "id": "0E8B4HwUf3Mq"
      },
      "outputs": [],
      "source": [
        "import pandas as pd\n",
        "import numpy as np\n",
        "import seaborn as sns\n",
        "import matplotlib.pyplot as plt\n",
        "from sklearn.model_selection import train_test_split\n",
        "from sklearn.metrics import accuracy_score\n",
        "from sklearn.metrics import classification_report\n",
        "import re\n",
        "import string\n",
        "import nltk\n",
        "from sklearn.metrics import roc_curve, roc_auc_score\n",
        "from nltk.corpus import stopwords\n",
        "from nltk.stem import WordNetLemmatizer"
      ]
    },
    {
      "cell_type": "code",
      "execution_count": null,
      "metadata": {
        "colab": {
          "base_uri": "https://localhost:8080/"
        },
        "id": "8QEVWcaosEqe",
        "outputId": "d8165f00-9abf-4220-cce1-a2041453ee38"
      },
      "outputs": [
        {
          "name": "stderr",
          "output_type": "stream",
          "text": [
            "[nltk_data] Downloading package wordnet to /root/nltk_data...\n"
          ]
        },
        {
          "data": {
            "text/plain": [
              "True"
            ]
          },
          "execution_count": 38,
          "metadata": {},
          "output_type": "execute_result"
        }
      ],
      "source": [
        "import nltk\n",
        "nltk.download('wordnet')\n"
      ]
    },
    {
      "cell_type": "markdown",
      "metadata": {
        "id": "iKmdwZSLf3Mr"
      },
      "source": [
        "### Inserting fake and real dataset"
      ]
    },
    {
      "cell_type": "code",
      "execution_count": null,
      "metadata": {
        "id": "VavUDziof3Mr"
      },
      "outputs": [],
      "source": [
        "# df_fake = pd.read_csv(\"/content/sample_data/Fake.csv\",engine='python',error_bad_lines=False)\n",
        "# df_true = pd.read_csv(\"/content/sample_data/True.csv\",engine='python',error_bad_lines=False)\n",
        "df = pd.read_csv(\"/fake_news_dataset.csv\",engine='python',encoding='utf-8',on_bad_lines=\"skip\")"
      ]
    },
    {
      "cell_type": "code",
      "execution_count": null,
      "metadata": {
        "colab": {
          "base_uri": "https://localhost:8080/",
          "height": 293
        },
        "id": "H1YnKFkAf3Ms",
        "outputId": "b4b648c9-5b0d-4854-d633-3eafa734cb7f"
      },
      "outputs": [
        {
          "data": {
            "application/vnd.google.colaboratory.intrinsic+json": {
              "summary": "{\n  \"name\": \"df\",\n  \"rows\": 11576,\n  \"fields\": [\n    {\n      \"column\": \"Unnamed: 0\",\n      \"properties\": {\n        \"dtype\": \"number\",\n        \"std\": 1950,\n        \"min\": 0,\n        \"max\": 7794,\n        \"num_unique_values\": 7795,\n        \"samples\": [\n          3570,\n          5502,\n          3453\n        ],\n        \"semantic_type\": \"\",\n        \"description\": \"\"\n      }\n    },\n    {\n      \"column\": \"title\",\n      \"properties\": {\n        \"dtype\": \"string\",\n        \"num_unique_values\": 7643,\n        \"samples\": [\n          \"HILLARY TELLS ANOTHER WHOPPER! IT\\u2019S 2015, DOES SHE THINK WE CAN\\u2019T CHECK HER LIES?\",\n          \"Obama to meet U.S. Congress leaders Monday on spending\",\n          \"Meredith Corp. and Koch Money Buys Time Inc., \\u2018Left\\u2019 Goes Bonkers\"\n        ],\n        \"semantic_type\": \"\",\n        \"description\": \"\"\n      }\n    },\n    {\n      \"column\": \"text\",\n      \"properties\": {\n        \"dtype\": \"string\",\n        \"num_unique_values\": 7603,\n        \"samples\": [\n          \"Joe Scarborough, the former Florida GOP congressman and host of MSNBC s Morning Joe, announced during his appearance on Late Night with Stephen Colbert on Tuesday night that he is leaving the Republican party, stating  I am a Republican, but I m not going to be a Republican anymore.  He later said he was going to become an Independent.The announcement comes merely weeks after President Donald Trump launched a scathing Twitter attack against Scarborough and Mika Brzezinski, his Morning Joe co-host, in late June, where the President not only criticized the program s ratings, but referred to Scarborough as a  psycho  and Brzezinski as  low I.Q.  and  crazy , then taking it a step too far, attacking her physical appearance from an encounter earlier in the year, claiming she was  bleeding from a facelift. to Mar-a-Lago 3 nights in a row around New Year's Eve, and insisted on joining me. She was bleeding badly from a face-lift. I said no!  Donald J. Trump (@realDonaldTrump) June 29, 2017The Twitter attack a fortnight ago wasn t the first time Trump s party had criticized the show, calling the program  the worst case of Trump Derangement Syndrome  in a press release in May. Once a respected forum for intelligent discourse, the program has turned into 3 hours of far-left hysteria, filled with more faux scandal and innuendo than a bad episode of Gossip Girl,  RNC Deputy Communications Director Michael Reed continued in the release to reporters.Scarborough initially responded to the President s dishonorable late-June Twitter attack with dignity.  Nothing that Mika and I did in setting up this meeting was any different than what all good reporters and news hosts try to do daily,  he said of the Mar-a-Lago encounter. Brzezinski, on the other hand, decided to fight fire with fire, taking to Twitter to mock Trump in a rather subtle way by posting a picture of a Cheerios packet.pic.twitter.com/8YhzcCUwM1  Mika Brzezinski (@morningmika) June 29, 2017The feud continued to get worse, with the morning show duo claiming that White House staff told them that Trump would have a story run about them in the National Enquirer unless they  begged  for it to be killed, Scarborough adding that he had evidence to back these claims.Finally, enough is enough and Joe Scarborough wants to denounce any and affiliation with President Trump, even if that means no longer identifying as a Republican. Watch his announcement here:.@JoeNBC announced that he's leaving #GOP to become an Independent. @StephenAtHome's full interview with Joe and @morningmika airs tonight! pic.twitter.com/OhLgXvYakH  The Late Show (@colbertlateshow) July 11, 2017 Featured image via Frederick M. Brown/Getty Images \",\n          \"WASHINGTON (Reuters) - U.S. President Donald Trump told Reuters on Thursday he will either renegotiate or terminate what he called a \\u201chorrible\\u201d free trade deal with South Korea and said Seoul should pay for a U.S. anti-missile system that he priced at $1 billion. In an interview with Reuters, Trump called the five-year-old trade pact with South Korea \\u201cunacceptable\\u201d and said it would be targeted for renegotiation after his administration completes a revamp of the North American Free Trade Agreement (NAFTA) with Canada and Mexico. He blamed the U.S.-Korean trade deal, known as KORUS, on his 2016 Democratic presidential election opponent, Hillary Clinton, who as secretary of state promoted the final version of the trade pact before its approval by Congress in 2011. \\u201cIt is unacceptable, it is a horrible deal made by Hillary,\\u201d the Republican Trump said. \\u201cIt\\u2019s a horrible deal, and we are going to renegotiate that deal or terminate it.\\u201d Asked when he would announce his intention to renegotiate the deal, Trump said: \\u201cVery soon. I\\u2019m announcing it now.\\u201d Trump's comments stunned South Korean financial markets, sending Seoul stocks .KS11 and the won currency KRW= into reverse even as the country's economic outlook has started to brighten. South Korea\\u2019s foreign ministry said Seoul would continue to explain to the Trump administration the benefits of the free trade deal. Washington had not officially filed a request to Seoul to renegotiate the agreement, it said. \\u201cOur government will keep monitoring the situation and continue our efforts to explain to the United States the mutually reciprocal outcome of the South Korea-U.S. FTA, while preparing for countermeasures,\\u201d the ministry said. With global demand improving, exports of goods such as cars and electronics have been leading a recovery in South Korea and a number of other trade-reliant Asian economies such as Japan and Taiwan, boosting their manufacturing sectors. \\u201cTalk and actual policy are different,\\u201d a high-ranking official at South Korea\\u2019s finance ministry, who declined to be identified as he is not authorized to speak to the media, told Reuters. KORUS was initially negotiated by the Republican administration of President George W. Bush in 2007, but that version was scrapped and renegotiated by President Barack Obama\\u2019s Democratic administration three years later. The U.S. goods trade deficit with South Korea has more than doubled since KORUS took effect in March 2012, from $13.2 billion in 2011 to $27.7 billion in 2016, according to U.S. Census Bureau data. Trump said the Terminal High-Altitude Area Defense (THAAD) missile system now being deployed in South Korea to defend against a potential missile attack from North Korea would cost about $1 billion and questioned why the United States was paying for it.  \\u201cI informed South Korea it would be appropriate if they paid. It\\u2019s a billion-dollar system,\\u201d Trump said. \\u201cIt\\u2019s phenomenal, shoots missiles right out of the sky.\\u201d Asked about the remarks, South Korea\\u2019s defense ministry said in a statement there was no change to the existing agreement that Seoul provides land for the deployment while Washington shoulders the cost of installing and operating the system.  Moon Jae-in, the South Korean presidential frontrunner, said the new government should given the choice to decide whether to agree to the deployment.  \\u201cI\\u2019ll decide after sufficient public consensus and parliamentary approval,\\u201d he said at a televised presidential debate ahead of the May 9 election.  His top foreign policy adviser earlier told Reuters that Trump\\u2019s suggestion would be an \\u201cimpossible option\\u201d because the U.S. military operates the system. The U.S. military started the deployment of THAAD in early March, despite strong opposition from China, which worries the system\\u2019s powerful radar can be used to spy into its territory. Lockheed Martin Corp (LMT.N) is the prime contractor for the THAAD system.  A former U.S. State Department official estimated the cost of the system at about $1.2 billion but said the United States would not want to sell THAAD to Seoul. \\u201cWe want to retain THAAD in our arsenal, consistent with all other U.S. weapons systems deployed on the Korean peninsula. We own them. We retain them. We have the right to redeploy them,\\u201d the official said, speaking on condition of anonymity. \",\n          \"BEIJING (Reuters) - Hu Jia, a well-known Chinese dissident who lives in Beijing, says he had hoped to go to the southeastern city of Xiamen for his government-sponsored holiday, but state security officials said no.   They told me I had to go to a more isolated place this time,  he told Reuters by phone from Yunnan province in far southwestern China, a popular destination renowned for its scenery and the culture of its ethnic minority groups. Rights groups say that Hu is one dozens of activists and dissidents detained, placed under tighter monitoring or  vacationed  by authorities,  during the week-long congress of the ruling Communist Party which began on Wednesday in Beijing. President Xi Jinping is expected to tighten his grip on power at the gathering, which is only held once every five years. For his enforced holiday, Hu and his two government minders jointly decided on the destinations. Hu suggested the ancient town of Dali in Yunnan for the first stop, and the public security agents accompanying him chose the second and third stops in the southwest region, Guiyang   the capital of the mountainous province of Guizhou, and the coastal city of Beihai in Guangxi province.  Hu estimated the whole trip for the three of them will cost close to 10,000 yuan ($1,510), all paid for by the authorities. He said that his minders tried to save money by choosing basic hotels and traveling between the three cities by bus. He will fly back to Beijing on Oct 28, just after the congress ends.  You can go see the sights, but state security goes with you everywhere,  Hu said. Reuters was unable to independently verify the accounts of Hu and other dissidents interviewed for this story. China s public security ministry did not respond to a faxed request for comment on the detention of activists, and the use of  vacations.  China rarely explains its treatment of dissidents other than to say that those charged are criminals who harmed social stability and that all people in China are treated equally before the law. It is not unusual for Chinese authorities to heighten monitoring and detention of dissidents before important political events, especially people with high profiles who are  known to speak out against the party and state. In addition to the enforced vacations, some activists have also been detained, placed under supervision at home, or warned about posting critical messages online in the weeks ahead of congress, according to the Hong Kong-based group Chinese Human Rights Defenders.  The group also said it had documented 14 cases of detention of activists in recent weeks. In one case, Wu Kemu, a truck driver from Xuancheng city in the central province of Anhui, was called in by the police for a talk on October 11 and has not been released since, his wife Fang Liangxiang told Reuters by phone on Sunday.  They will not say when he will be released. They just told me to wait at home for him,  she said, adding that she expected the detention was related to critical things Wu had said about the government on the popular instant messaging platform WeChat. No one answered the phone on Saturday at the Xuancheng city detention center where Fang says Wu is being held. It is unclear if the total number of detentions, arrests or  vacations  this year is greater than at the time of previous major events or how many of the cases are directly related to the congress. Some activists say that the authorities prefer enforced vacations rather than detentions as they can make dissidents both inactive and inaccessible to foreign journalists over sensitive periods. Locking people up can attract more attention. Hu, a pro-democracy activist and campaigner for those with HIV/AIDS, was sentenced to three-and-a-half years in jail for subversion in 2008, and said he has been under regular state surveillance since his release.  The first thing I did was go for a run up in the mountains by Dali, because I knew the state security agents could not run with me,  he said, adding that the agents were  not the running type.   It felt like being briefly free from prison,  he said. Hu said that state security agents had shown him a list of people who would not be allowed to stay in Beijing over the 19th Party Congress, including Liu Xia, the widow of Nobel Peace Prize winner Liu Xiaobo.   Liu Xia has been under effective house arrest in Beijing since her husband won the Nobel Prize in 2010. After his death in July, even the sporadic communications she s had with friends have been nearly entirely severed, two of them told Reuters. The public security ministry did not respond to a request for comment on Liu Xia s situation. Some activists make their own travel plans to avoid the authorities. Wu Lihong, an activist from Wuxi city in Jiangsu province who for over a decade has been protesting pollution in Lake Tai in eastern China, told Reuters that Chinese state security had called him last week saying they were coming to take him for a forced vacation. Wu, though, had already gone to visit a friend in Zhejiang province, on the east coast and far away from Beijing, to avoid them.  At the 16th, 17th and 18th Congresses I was vacationed, imprisoned, held at home and forbidden to speak,  Wu said.   This time, I chose to go on holiday without them,  he said. He said that state security officials had asked him to return to Wuxi so they could take him on  vacation  themselves, but he declined saying he would stay with his friend till after the congress ends. He is now avoiding their calls. Reuters could not independently confirm Wu s comments. Chinese state security does not have a public phone number, fax number or website.     Xi has overseen a sweeping crackdown on rights lawyers and activists since coming to power in 2012, jailing dozens, in what rights groups say is a coordinated attempt to quash dissent in China. New internet measures include rules that hold users accountable for critical posts even in private group chats and a renewed crackdown on technologies to circumvent restrictions.  Kit Chan, director of the Hong Kong-based China Human Rights Lawyers Concern Group, said that some recent detentions of activists represent a new direction in the crackdown as it shows the authorities are targeting smaller groups that draw attention to specific rights issues as much as their traditional focus on pro-democracy activists. Zhen Jianghua, for example, the founder of Human Rights Campaign in China, a grassroots organization based in the southern province of Guangzhou, was detained on Sept 1 in Zhuhai, a source close to Zhen who declined to be named told Reuters. The ministry of public security did not respond to a faxed request for comment about the targeting of grassroots organizations. A person who answered the phone at the Zhuhai public security bureau said she was not aware of Zhen s case. \"\n        ],\n        \"semantic_type\": \"\",\n        \"description\": \"\"\n      }\n    },\n    {\n      \"column\": \"label\",\n      \"properties\": {\n        \"dtype\": \"number\",\n        \"std\": 0.4992896609062317,\n        \"min\": 0.0,\n        \"max\": 1.0,\n        \"num_unique_values\": 2,\n        \"samples\": [\n          0.0,\n          1.0\n        ],\n        \"semantic_type\": \"\",\n        \"description\": \"\"\n      }\n    },\n    {\n      \"column\": \"Unnamed: 4\",\n      \"properties\": {\n        \"dtype\": \"number\",\n        \"std\": null,\n        \"min\": null,\n        \"max\": null,\n        \"num_unique_values\": 0,\n        \"samples\": [],\n        \"semantic_type\": \"\",\n        \"description\": \"\"\n      }\n    },\n    {\n      \"column\": \"Unnamed: 5\",\n      \"properties\": {\n        \"dtype\": \"number\",\n        \"std\": null,\n        \"min\": null,\n        \"max\": null,\n        \"num_unique_values\": 0,\n        \"samples\": [],\n        \"semantic_type\": \"\",\n        \"description\": \"\"\n      }\n    },\n    {\n      \"column\": \"Unnamed: 6\",\n      \"properties\": {\n        \"dtype\": \"number\",\n        \"std\": null,\n        \"min\": null,\n        \"max\": null,\n        \"num_unique_values\": 0,\n        \"samples\": [],\n        \"semantic_type\": \"\",\n        \"description\": \"\"\n      }\n    },\n    {\n      \"column\": \"Unnamed: 7\",\n      \"properties\": {\n        \"dtype\": \"number\",\n        \"std\": null,\n        \"min\": null,\n        \"max\": null,\n        \"num_unique_values\": 0,\n        \"samples\": [],\n        \"semantic_type\": \"\",\n        \"description\": \"\"\n      }\n    },\n    {\n      \"column\": \"Unnamed: 8\",\n      \"properties\": {\n        \"dtype\": \"number\",\n        \"std\": null,\n        \"min\": null,\n        \"max\": null,\n        \"num_unique_values\": 0,\n        \"samples\": [],\n        \"semantic_type\": \"\",\n        \"description\": \"\"\n      }\n    }\n  ]\n}",
              "type": "dataframe",
              "variable_name": "df"
            },
            "text/html": [
              "\n",
              "  <div id=\"df-c36c8d00-13d1-4229-a20f-3ffb9993b8cf\" class=\"colab-df-container\">\n",
              "    <div>\n",
              "<style scoped>\n",
              "    .dataframe tbody tr th:only-of-type {\n",
              "        vertical-align: middle;\n",
              "    }\n",
              "\n",
              "    .dataframe tbody tr th {\n",
              "        vertical-align: top;\n",
              "    }\n",
              "\n",
              "    .dataframe thead th {\n",
              "        text-align: right;\n",
              "    }\n",
              "</style>\n",
              "<table border=\"1\" class=\"dataframe\">\n",
              "  <thead>\n",
              "    <tr style=\"text-align: right;\">\n",
              "      <th></th>\n",
              "      <th>Unnamed: 0</th>\n",
              "      <th>title</th>\n",
              "      <th>text</th>\n",
              "      <th>label</th>\n",
              "      <th>Unnamed: 4</th>\n",
              "      <th>Unnamed: 5</th>\n",
              "      <th>Unnamed: 6</th>\n",
              "      <th>Unnamed: 7</th>\n",
              "      <th>Unnamed: 8</th>\n",
              "    </tr>\n",
              "  </thead>\n",
              "  <tbody>\n",
              "    <tr>\n",
              "      <th>0</th>\n",
              "      <td>0</td>\n",
              "      <td>LAW ENFORCEMENT ON HIGH ALERT Following Threat...</td>\n",
              "      <td>No comment is expected from Barack Obama Membe...</td>\n",
              "      <td>1.0</td>\n",
              "      <td>NaN</td>\n",
              "      <td>NaN</td>\n",
              "      <td>NaN</td>\n",
              "      <td>NaN</td>\n",
              "      <td>NaN</td>\n",
              "    </tr>\n",
              "    <tr>\n",
              "      <th>1</th>\n",
              "      <td>1</td>\n",
              "      <td>NaN</td>\n",
              "      <td>Did they post their votes for Hillary already?</td>\n",
              "      <td>1.0</td>\n",
              "      <td>NaN</td>\n",
              "      <td>NaN</td>\n",
              "      <td>NaN</td>\n",
              "      <td>NaN</td>\n",
              "      <td>NaN</td>\n",
              "    </tr>\n",
              "    <tr>\n",
              "      <th>2</th>\n",
              "      <td>2</td>\n",
              "      <td>UNBELIEVABLE! OBAMA’S ATTORNEY GENERAL SAYS MO...</td>\n",
              "      <td>Now, most of the demonstrators gathered last ...</td>\n",
              "      <td>1.0</td>\n",
              "      <td>NaN</td>\n",
              "      <td>NaN</td>\n",
              "      <td>NaN</td>\n",
              "      <td>NaN</td>\n",
              "      <td>NaN</td>\n",
              "    </tr>\n",
              "    <tr>\n",
              "      <th>3</th>\n",
              "      <td>3</td>\n",
              "      <td>Bobby Jindal, raised Hindu, uses story of Chri...</td>\n",
              "      <td>A dozen politically active pastors came here f...</td>\n",
              "      <td>0.0</td>\n",
              "      <td>NaN</td>\n",
              "      <td>NaN</td>\n",
              "      <td>NaN</td>\n",
              "      <td>NaN</td>\n",
              "      <td>NaN</td>\n",
              "    </tr>\n",
              "    <tr>\n",
              "      <th>4</th>\n",
              "      <td>4</td>\n",
              "      <td>SATAN 2: Russia unvelis an image of its terrif...</td>\n",
              "      <td>The RS-28 Sarmat missile, dubbed Satan 2, will...</td>\n",
              "      <td>1.0</td>\n",
              "      <td>NaN</td>\n",
              "      <td>NaN</td>\n",
              "      <td>NaN</td>\n",
              "      <td>NaN</td>\n",
              "      <td>NaN</td>\n",
              "    </tr>\n",
              "  </tbody>\n",
              "</table>\n",
              "</div>\n",
              "    <div class=\"colab-df-buttons\">\n",
              "\n",
              "  <div class=\"colab-df-container\">\n",
              "    <button class=\"colab-df-convert\" onclick=\"convertToInteractive('df-c36c8d00-13d1-4229-a20f-3ffb9993b8cf')\"\n",
              "            title=\"Convert this dataframe to an interactive table.\"\n",
              "            style=\"display:none;\">\n",
              "\n",
              "  <svg xmlns=\"http://www.w3.org/2000/svg\" height=\"24px\" viewBox=\"0 -960 960 960\">\n",
              "    <path d=\"M120-120v-720h720v720H120Zm60-500h600v-160H180v160Zm220 220h160v-160H400v160Zm0 220h160v-160H400v160ZM180-400h160v-160H180v160Zm440 0h160v-160H620v160ZM180-180h160v-160H180v160Zm440 0h160v-160H620v160Z\"/>\n",
              "  </svg>\n",
              "    </button>\n",
              "\n",
              "  <style>\n",
              "    .colab-df-container {\n",
              "      display:flex;\n",
              "      gap: 12px;\n",
              "    }\n",
              "\n",
              "    .colab-df-convert {\n",
              "      background-color: #E8F0FE;\n",
              "      border: none;\n",
              "      border-radius: 50%;\n",
              "      cursor: pointer;\n",
              "      display: none;\n",
              "      fill: #1967D2;\n",
              "      height: 32px;\n",
              "      padding: 0 0 0 0;\n",
              "      width: 32px;\n",
              "    }\n",
              "\n",
              "    .colab-df-convert:hover {\n",
              "      background-color: #E2EBFA;\n",
              "      box-shadow: 0px 1px 2px rgba(60, 64, 67, 0.3), 0px 1px 3px 1px rgba(60, 64, 67, 0.15);\n",
              "      fill: #174EA6;\n",
              "    }\n",
              "\n",
              "    .colab-df-buttons div {\n",
              "      margin-bottom: 4px;\n",
              "    }\n",
              "\n",
              "    [theme=dark] .colab-df-convert {\n",
              "      background-color: #3B4455;\n",
              "      fill: #D2E3FC;\n",
              "    }\n",
              "\n",
              "    [theme=dark] .colab-df-convert:hover {\n",
              "      background-color: #434B5C;\n",
              "      box-shadow: 0px 1px 3px 1px rgba(0, 0, 0, 0.15);\n",
              "      filter: drop-shadow(0px 1px 2px rgba(0, 0, 0, 0.3));\n",
              "      fill: #FFFFFF;\n",
              "    }\n",
              "  </style>\n",
              "\n",
              "    <script>\n",
              "      const buttonEl =\n",
              "        document.querySelector('#df-c36c8d00-13d1-4229-a20f-3ffb9993b8cf button.colab-df-convert');\n",
              "      buttonEl.style.display =\n",
              "        google.colab.kernel.accessAllowed ? 'block' : 'none';\n",
              "\n",
              "      async function convertToInteractive(key) {\n",
              "        const element = document.querySelector('#df-c36c8d00-13d1-4229-a20f-3ffb9993b8cf');\n",
              "        const dataTable =\n",
              "          await google.colab.kernel.invokeFunction('convertToInteractive',\n",
              "                                                    [key], {});\n",
              "        if (!dataTable) return;\n",
              "\n",
              "        const docLinkHtml = 'Like what you see? Visit the ' +\n",
              "          '<a target=\"_blank\" href=https://colab.research.google.com/notebooks/data_table.ipynb>data table notebook</a>'\n",
              "          + ' to learn more about interactive tables.';\n",
              "        element.innerHTML = '';\n",
              "        dataTable['output_type'] = 'display_data';\n",
              "        await google.colab.output.renderOutput(dataTable, element);\n",
              "        const docLink = document.createElement('div');\n",
              "        docLink.innerHTML = docLinkHtml;\n",
              "        element.appendChild(docLink);\n",
              "      }\n",
              "    </script>\n",
              "  </div>\n",
              "\n",
              "\n",
              "<div id=\"df-d0aa8142-7f2f-4a17-aa70-bb1c3b2d844e\">\n",
              "  <button class=\"colab-df-quickchart\" onclick=\"quickchart('df-d0aa8142-7f2f-4a17-aa70-bb1c3b2d844e')\"\n",
              "            title=\"Suggest charts\"\n",
              "            style=\"display:none;\">\n",
              "\n",
              "<svg xmlns=\"http://www.w3.org/2000/svg\" height=\"24px\"viewBox=\"0 0 24 24\"\n",
              "     width=\"24px\">\n",
              "    <g>\n",
              "        <path d=\"M19 3H5c-1.1 0-2 .9-2 2v14c0 1.1.9 2 2 2h14c1.1 0 2-.9 2-2V5c0-1.1-.9-2-2-2zM9 17H7v-7h2v7zm4 0h-2V7h2v10zm4 0h-2v-4h2v4z\"/>\n",
              "    </g>\n",
              "</svg>\n",
              "  </button>\n",
              "\n",
              "<style>\n",
              "  .colab-df-quickchart {\n",
              "      --bg-color: #E8F0FE;\n",
              "      --fill-color: #1967D2;\n",
              "      --hover-bg-color: #E2EBFA;\n",
              "      --hover-fill-color: #174EA6;\n",
              "      --disabled-fill-color: #AAA;\n",
              "      --disabled-bg-color: #DDD;\n",
              "  }\n",
              "\n",
              "  [theme=dark] .colab-df-quickchart {\n",
              "      --bg-color: #3B4455;\n",
              "      --fill-color: #D2E3FC;\n",
              "      --hover-bg-color: #434B5C;\n",
              "      --hover-fill-color: #FFFFFF;\n",
              "      --disabled-bg-color: #3B4455;\n",
              "      --disabled-fill-color: #666;\n",
              "  }\n",
              "\n",
              "  .colab-df-quickchart {\n",
              "    background-color: var(--bg-color);\n",
              "    border: none;\n",
              "    border-radius: 50%;\n",
              "    cursor: pointer;\n",
              "    display: none;\n",
              "    fill: var(--fill-color);\n",
              "    height: 32px;\n",
              "    padding: 0;\n",
              "    width: 32px;\n",
              "  }\n",
              "\n",
              "  .colab-df-quickchart:hover {\n",
              "    background-color: var(--hover-bg-color);\n",
              "    box-shadow: 0 1px 2px rgba(60, 64, 67, 0.3), 0 1px 3px 1px rgba(60, 64, 67, 0.15);\n",
              "    fill: var(--button-hover-fill-color);\n",
              "  }\n",
              "\n",
              "  .colab-df-quickchart-complete:disabled,\n",
              "  .colab-df-quickchart-complete:disabled:hover {\n",
              "    background-color: var(--disabled-bg-color);\n",
              "    fill: var(--disabled-fill-color);\n",
              "    box-shadow: none;\n",
              "  }\n",
              "\n",
              "  .colab-df-spinner {\n",
              "    border: 2px solid var(--fill-color);\n",
              "    border-color: transparent;\n",
              "    border-bottom-color: var(--fill-color);\n",
              "    animation:\n",
              "      spin 1s steps(1) infinite;\n",
              "  }\n",
              "\n",
              "  @keyframes spin {\n",
              "    0% {\n",
              "      border-color: transparent;\n",
              "      border-bottom-color: var(--fill-color);\n",
              "      border-left-color: var(--fill-color);\n",
              "    }\n",
              "    20% {\n",
              "      border-color: transparent;\n",
              "      border-left-color: var(--fill-color);\n",
              "      border-top-color: var(--fill-color);\n",
              "    }\n",
              "    30% {\n",
              "      border-color: transparent;\n",
              "      border-left-color: var(--fill-color);\n",
              "      border-top-color: var(--fill-color);\n",
              "      border-right-color: var(--fill-color);\n",
              "    }\n",
              "    40% {\n",
              "      border-color: transparent;\n",
              "      border-right-color: var(--fill-color);\n",
              "      border-top-color: var(--fill-color);\n",
              "    }\n",
              "    60% {\n",
              "      border-color: transparent;\n",
              "      border-right-color: var(--fill-color);\n",
              "    }\n",
              "    80% {\n",
              "      border-color: transparent;\n",
              "      border-right-color: var(--fill-color);\n",
              "      border-bottom-color: var(--fill-color);\n",
              "    }\n",
              "    90% {\n",
              "      border-color: transparent;\n",
              "      border-bottom-color: var(--fill-color);\n",
              "    }\n",
              "  }\n",
              "</style>\n",
              "\n",
              "  <script>\n",
              "    async function quickchart(key) {\n",
              "      const quickchartButtonEl =\n",
              "        document.querySelector('#' + key + ' button');\n",
              "      quickchartButtonEl.disabled = true;  // To prevent multiple clicks.\n",
              "      quickchartButtonEl.classList.add('colab-df-spinner');\n",
              "      try {\n",
              "        const charts = await google.colab.kernel.invokeFunction(\n",
              "            'suggestCharts', [key], {});\n",
              "      } catch (error) {\n",
              "        console.error('Error during call to suggestCharts:', error);\n",
              "      }\n",
              "      quickchartButtonEl.classList.remove('colab-df-spinner');\n",
              "      quickchartButtonEl.classList.add('colab-df-quickchart-complete');\n",
              "    }\n",
              "    (() => {\n",
              "      let quickchartButtonEl =\n",
              "        document.querySelector('#df-d0aa8142-7f2f-4a17-aa70-bb1c3b2d844e button');\n",
              "      quickchartButtonEl.style.display =\n",
              "        google.colab.kernel.accessAllowed ? 'block' : 'none';\n",
              "    })();\n",
              "  </script>\n",
              "</div>\n",
              "\n",
              "    </div>\n",
              "  </div>\n"
            ],
            "text/plain": [
              "   Unnamed: 0                                              title  \\\n",
              "0           0  LAW ENFORCEMENT ON HIGH ALERT Following Threat...   \n",
              "1           1                                                NaN   \n",
              "2           2  UNBELIEVABLE! OBAMA’S ATTORNEY GENERAL SAYS MO...   \n",
              "3           3  Bobby Jindal, raised Hindu, uses story of Chri...   \n",
              "4           4  SATAN 2: Russia unvelis an image of its terrif...   \n",
              "\n",
              "                                                text  label  Unnamed: 4  \\\n",
              "0  No comment is expected from Barack Obama Membe...    1.0         NaN   \n",
              "1     Did they post their votes for Hillary already?    1.0         NaN   \n",
              "2   Now, most of the demonstrators gathered last ...    1.0         NaN   \n",
              "3  A dozen politically active pastors came here f...    0.0         NaN   \n",
              "4  The RS-28 Sarmat missile, dubbed Satan 2, will...    1.0         NaN   \n",
              "\n",
              "   Unnamed: 5  Unnamed: 6  Unnamed: 7  Unnamed: 8  \n",
              "0         NaN         NaN         NaN         NaN  \n",
              "1         NaN         NaN         NaN         NaN  \n",
              "2         NaN         NaN         NaN         NaN  \n",
              "3         NaN         NaN         NaN         NaN  \n",
              "4         NaN         NaN         NaN         NaN  "
            ]
          },
          "execution_count": 24,
          "metadata": {},
          "output_type": "execute_result"
        }
      ],
      "source": [
        "df.head(5)"
      ]
    },
    {
      "cell_type": "code",
      "execution_count": null,
      "metadata": {
        "id": "eRqVPaJ3f3Ms"
      },
      "outputs": [],
      "source": [
        "# df_true.head(5)"
      ]
    },
    {
      "cell_type": "markdown",
      "metadata": {
        "id": "cuR08_rHf3Ms"
      },
      "source": [
        "Inserting a column called \"class\" for fake and real news dataset to categories fake and true news."
      ]
    },
    {
      "cell_type": "code",
      "execution_count": null,
      "metadata": {
        "id": "r_R7g3Q9f3Ms"
      },
      "outputs": [],
      "source": [
        "# df_fake[\"class\"] = 0\n",
        "# df_true[\"class\"] = 1"
      ]
    },
    {
      "cell_type": "markdown",
      "metadata": {
        "id": "Nftg1Ppxf3Mt"
      },
      "source": [
        "Removing last 10 rows from both the dataset, for manual testing  "
      ]
    },
    {
      "cell_type": "code",
      "execution_count": null,
      "metadata": {
        "id": "t1Q5_uXaf3Mt"
      },
      "outputs": [],
      "source": [
        "df_fake.shape, df_true.shape"
      ]
    },
    {
      "cell_type": "code",
      "execution_count": null,
      "metadata": {
        "id": "gBVBPbXHf3Mt"
      },
      "outputs": [],
      "source": [
        "df_fake_manual_testing = df_fake.tail(10)\n",
        "for i in range(23480,23470,-1):\n",
        "    df_fake.drop([i], axis = 0, inplace = True)\n",
        "df_true_manual_testing = df_true.tail(10)\n",
        "for i in range(21416,21406,-1):\n",
        "    df_true.drop([i], axis = 0, inplace = True)"
      ]
    },
    {
      "cell_type": "code",
      "execution_count": null,
      "metadata": {
        "id": "bsIAuNGRf3Mt"
      },
      "outputs": [],
      "source": [
        "df_fake.shape, df_true.shape"
      ]
    },
    {
      "cell_type": "markdown",
      "metadata": {
        "id": "YNDJZX7lf3Mu"
      },
      "source": [
        "Merging the manual testing dataframe in single dataset and save it in a csv file"
      ]
    },
    {
      "cell_type": "code",
      "execution_count": null,
      "metadata": {
        "id": "CdMM-_smf3Mu"
      },
      "outputs": [],
      "source": [
        "# df_fake_manual_testing[\"class\"] = 0\n",
        "# df_true_manual_testing[\"class\"] = 1"
      ]
    },
    {
      "cell_type": "code",
      "execution_count": null,
      "metadata": {
        "id": "1QF5ck5df3Mu"
      },
      "outputs": [],
      "source": [
        "# df_fake_manual_testing.head(10)"
      ]
    },
    {
      "cell_type": "code",
      "execution_count": null,
      "metadata": {
        "id": "vdXCXVHpf3Mu"
      },
      "outputs": [],
      "source": [
        "# df_true_manual_testing.head(10)"
      ]
    },
    {
      "cell_type": "code",
      "execution_count": null,
      "metadata": {
        "id": "rTlWwtBZf3Mu"
      },
      "outputs": [],
      "source": [
        "# df_manual_testing = pd.concat([df_fake_manual_testing,df_true_manual_testing], axis = 0)\n",
        "# df_manual_testing.to_csv(\"manual_testing.csv\")"
      ]
    },
    {
      "cell_type": "markdown",
      "metadata": {
        "id": "CoDO1HRif3Mv"
      },
      "source": [
        "Merging the main fake and true dataframe"
      ]
    },
    {
      "cell_type": "code",
      "execution_count": null,
      "metadata": {
        "id": "-BrD5rYuf3Mv"
      },
      "outputs": [],
      "source": [
        "# df_marge = pd.concat([df_fake, df_true], axis =0 )\n",
        "# df_marge.head(10)"
      ]
    },
    {
      "cell_type": "code",
      "execution_count": null,
      "metadata": {
        "colab": {
          "base_uri": "https://localhost:8080/"
        },
        "id": "jOSO2TsMf3Mv",
        "outputId": "393c3e4d-db40-4a35-c784-6781e1005a38"
      },
      "outputs": [
        {
          "data": {
            "text/plain": [
              "Index(['Unnamed: 0', 'title', 'text', 'label', 'Unnamed: 4', 'Unnamed: 5',\n",
              "       'Unnamed: 6', 'Unnamed: 7', 'Unnamed: 8'],\n",
              "      dtype='object')"
            ]
          },
          "execution_count": 14,
          "metadata": {},
          "output_type": "execute_result"
        }
      ],
      "source": [
        "# df.columns"
      ]
    },
    {
      "cell_type": "markdown",
      "metadata": {
        "id": "HeHmC_Bmf3Mv"
      },
      "source": [
        "#### \"title\",  \"subject\" and \"date\" columns is not required for detecting the fake news, so I am going to drop the columns."
      ]
    },
    {
      "cell_type": "code",
      "execution_count": null,
      "metadata": {
        "id": "-Z-AYR3ef3Mv"
      },
      "outputs": [],
      "source": [
        "df = df.drop([\"Unnamed: 0\", \"title\",\"Unnamed: 4\",\"Unnamed: 5\",\"Unnamed: 6\",\"Unnamed: 7\",\"Unnamed: 8\"], axis = 1)"
      ]
    },
    {
      "cell_type": "code",
      "execution_count": null,
      "metadata": {
        "colab": {
          "base_uri": "https://localhost:8080/",
          "height": 206
        },
        "id": "yd7gMLElf3Mv",
        "outputId": "50b4a34a-33d2-4b95-c0d2-9e0ef8a18144"
      },
      "outputs": [
        {
          "data": {
            "application/vnd.google.colaboratory.intrinsic+json": {
              "summary": "{\n  \"name\": \"df\",\n  \"rows\": 11576,\n  \"fields\": [\n    {\n      \"column\": \"text\",\n      \"properties\": {\n        \"dtype\": \"string\",\n        \"num_unique_values\": 7603,\n        \"samples\": [\n          \"Joe Scarborough, the former Florida GOP congressman and host of MSNBC s Morning Joe, announced during his appearance on Late Night with Stephen Colbert on Tuesday night that he is leaving the Republican party, stating  I am a Republican, but I m not going to be a Republican anymore.  He later said he was going to become an Independent.The announcement comes merely weeks after President Donald Trump launched a scathing Twitter attack against Scarborough and Mika Brzezinski, his Morning Joe co-host, in late June, where the President not only criticized the program s ratings, but referred to Scarborough as a  psycho  and Brzezinski as  low I.Q.  and  crazy , then taking it a step too far, attacking her physical appearance from an encounter earlier in the year, claiming she was  bleeding from a facelift. to Mar-a-Lago 3 nights in a row around New Year's Eve, and insisted on joining me. She was bleeding badly from a face-lift. I said no!  Donald J. Trump (@realDonaldTrump) June 29, 2017The Twitter attack a fortnight ago wasn t the first time Trump s party had criticized the show, calling the program  the worst case of Trump Derangement Syndrome  in a press release in May. Once a respected forum for intelligent discourse, the program has turned into 3 hours of far-left hysteria, filled with more faux scandal and innuendo than a bad episode of Gossip Girl,  RNC Deputy Communications Director Michael Reed continued in the release to reporters.Scarborough initially responded to the President s dishonorable late-June Twitter attack with dignity.  Nothing that Mika and I did in setting up this meeting was any different than what all good reporters and news hosts try to do daily,  he said of the Mar-a-Lago encounter. Brzezinski, on the other hand, decided to fight fire with fire, taking to Twitter to mock Trump in a rather subtle way by posting a picture of a Cheerios packet.pic.twitter.com/8YhzcCUwM1  Mika Brzezinski (@morningmika) June 29, 2017The feud continued to get worse, with the morning show duo claiming that White House staff told them that Trump would have a story run about them in the National Enquirer unless they  begged  for it to be killed, Scarborough adding that he had evidence to back these claims.Finally, enough is enough and Joe Scarborough wants to denounce any and affiliation with President Trump, even if that means no longer identifying as a Republican. Watch his announcement here:.@JoeNBC announced that he's leaving #GOP to become an Independent. @StephenAtHome's full interview with Joe and @morningmika airs tonight! pic.twitter.com/OhLgXvYakH  The Late Show (@colbertlateshow) July 11, 2017 Featured image via Frederick M. Brown/Getty Images \",\n          \"WASHINGTON (Reuters) - U.S. President Donald Trump told Reuters on Thursday he will either renegotiate or terminate what he called a \\u201chorrible\\u201d free trade deal with South Korea and said Seoul should pay for a U.S. anti-missile system that he priced at $1 billion. In an interview with Reuters, Trump called the five-year-old trade pact with South Korea \\u201cunacceptable\\u201d and said it would be targeted for renegotiation after his administration completes a revamp of the North American Free Trade Agreement (NAFTA) with Canada and Mexico. He blamed the U.S.-Korean trade deal, known as KORUS, on his 2016 Democratic presidential election opponent, Hillary Clinton, who as secretary of state promoted the final version of the trade pact before its approval by Congress in 2011. \\u201cIt is unacceptable, it is a horrible deal made by Hillary,\\u201d the Republican Trump said. \\u201cIt\\u2019s a horrible deal, and we are going to renegotiate that deal or terminate it.\\u201d Asked when he would announce his intention to renegotiate the deal, Trump said: \\u201cVery soon. I\\u2019m announcing it now.\\u201d Trump's comments stunned South Korean financial markets, sending Seoul stocks .KS11 and the won currency KRW= into reverse even as the country's economic outlook has started to brighten. South Korea\\u2019s foreign ministry said Seoul would continue to explain to the Trump administration the benefits of the free trade deal. Washington had not officially filed a request to Seoul to renegotiate the agreement, it said. \\u201cOur government will keep monitoring the situation and continue our efforts to explain to the United States the mutually reciprocal outcome of the South Korea-U.S. FTA, while preparing for countermeasures,\\u201d the ministry said. With global demand improving, exports of goods such as cars and electronics have been leading a recovery in South Korea and a number of other trade-reliant Asian economies such as Japan and Taiwan, boosting their manufacturing sectors. \\u201cTalk and actual policy are different,\\u201d a high-ranking official at South Korea\\u2019s finance ministry, who declined to be identified as he is not authorized to speak to the media, told Reuters. KORUS was initially negotiated by the Republican administration of President George W. Bush in 2007, but that version was scrapped and renegotiated by President Barack Obama\\u2019s Democratic administration three years later. The U.S. goods trade deficit with South Korea has more than doubled since KORUS took effect in March 2012, from $13.2 billion in 2011 to $27.7 billion in 2016, according to U.S. Census Bureau data. Trump said the Terminal High-Altitude Area Defense (THAAD) missile system now being deployed in South Korea to defend against a potential missile attack from North Korea would cost about $1 billion and questioned why the United States was paying for it.  \\u201cI informed South Korea it would be appropriate if they paid. It\\u2019s a billion-dollar system,\\u201d Trump said. \\u201cIt\\u2019s phenomenal, shoots missiles right out of the sky.\\u201d Asked about the remarks, South Korea\\u2019s defense ministry said in a statement there was no change to the existing agreement that Seoul provides land for the deployment while Washington shoulders the cost of installing and operating the system.  Moon Jae-in, the South Korean presidential frontrunner, said the new government should given the choice to decide whether to agree to the deployment.  \\u201cI\\u2019ll decide after sufficient public consensus and parliamentary approval,\\u201d he said at a televised presidential debate ahead of the May 9 election.  His top foreign policy adviser earlier told Reuters that Trump\\u2019s suggestion would be an \\u201cimpossible option\\u201d because the U.S. military operates the system. The U.S. military started the deployment of THAAD in early March, despite strong opposition from China, which worries the system\\u2019s powerful radar can be used to spy into its territory. Lockheed Martin Corp (LMT.N) is the prime contractor for the THAAD system.  A former U.S. State Department official estimated the cost of the system at about $1.2 billion but said the United States would not want to sell THAAD to Seoul. \\u201cWe want to retain THAAD in our arsenal, consistent with all other U.S. weapons systems deployed on the Korean peninsula. We own them. We retain them. We have the right to redeploy them,\\u201d the official said, speaking on condition of anonymity. \",\n          \"BEIJING (Reuters) - Hu Jia, a well-known Chinese dissident who lives in Beijing, says he had hoped to go to the southeastern city of Xiamen for his government-sponsored holiday, but state security officials said no.   They told me I had to go to a more isolated place this time,  he told Reuters by phone from Yunnan province in far southwestern China, a popular destination renowned for its scenery and the culture of its ethnic minority groups. Rights groups say that Hu is one dozens of activists and dissidents detained, placed under tighter monitoring or  vacationed  by authorities,  during the week-long congress of the ruling Communist Party which began on Wednesday in Beijing. President Xi Jinping is expected to tighten his grip on power at the gathering, which is only held once every five years. For his enforced holiday, Hu and his two government minders jointly decided on the destinations. Hu suggested the ancient town of Dali in Yunnan for the first stop, and the public security agents accompanying him chose the second and third stops in the southwest region, Guiyang   the capital of the mountainous province of Guizhou, and the coastal city of Beihai in Guangxi province.  Hu estimated the whole trip for the three of them will cost close to 10,000 yuan ($1,510), all paid for by the authorities. He said that his minders tried to save money by choosing basic hotels and traveling between the three cities by bus. He will fly back to Beijing on Oct 28, just after the congress ends.  You can go see the sights, but state security goes with you everywhere,  Hu said. Reuters was unable to independently verify the accounts of Hu and other dissidents interviewed for this story. China s public security ministry did not respond to a faxed request for comment on the detention of activists, and the use of  vacations.  China rarely explains its treatment of dissidents other than to say that those charged are criminals who harmed social stability and that all people in China are treated equally before the law. It is not unusual for Chinese authorities to heighten monitoring and detention of dissidents before important political events, especially people with high profiles who are  known to speak out against the party and state. In addition to the enforced vacations, some activists have also been detained, placed under supervision at home, or warned about posting critical messages online in the weeks ahead of congress, according to the Hong Kong-based group Chinese Human Rights Defenders.  The group also said it had documented 14 cases of detention of activists in recent weeks. In one case, Wu Kemu, a truck driver from Xuancheng city in the central province of Anhui, was called in by the police for a talk on October 11 and has not been released since, his wife Fang Liangxiang told Reuters by phone on Sunday.  They will not say when he will be released. They just told me to wait at home for him,  she said, adding that she expected the detention was related to critical things Wu had said about the government on the popular instant messaging platform WeChat. No one answered the phone on Saturday at the Xuancheng city detention center where Fang says Wu is being held. It is unclear if the total number of detentions, arrests or  vacations  this year is greater than at the time of previous major events or how many of the cases are directly related to the congress. Some activists say that the authorities prefer enforced vacations rather than detentions as they can make dissidents both inactive and inaccessible to foreign journalists over sensitive periods. Locking people up can attract more attention. Hu, a pro-democracy activist and campaigner for those with HIV/AIDS, was sentenced to three-and-a-half years in jail for subversion in 2008, and said he has been under regular state surveillance since his release.  The first thing I did was go for a run up in the mountains by Dali, because I knew the state security agents could not run with me,  he said, adding that the agents were  not the running type.   It felt like being briefly free from prison,  he said. Hu said that state security agents had shown him a list of people who would not be allowed to stay in Beijing over the 19th Party Congress, including Liu Xia, the widow of Nobel Peace Prize winner Liu Xiaobo.   Liu Xia has been under effective house arrest in Beijing since her husband won the Nobel Prize in 2010. After his death in July, even the sporadic communications she s had with friends have been nearly entirely severed, two of them told Reuters. The public security ministry did not respond to a request for comment on Liu Xia s situation. Some activists make their own travel plans to avoid the authorities. Wu Lihong, an activist from Wuxi city in Jiangsu province who for over a decade has been protesting pollution in Lake Tai in eastern China, told Reuters that Chinese state security had called him last week saying they were coming to take him for a forced vacation. Wu, though, had already gone to visit a friend in Zhejiang province, on the east coast and far away from Beijing, to avoid them.  At the 16th, 17th and 18th Congresses I was vacationed, imprisoned, held at home and forbidden to speak,  Wu said.   This time, I chose to go on holiday without them,  he said. He said that state security officials had asked him to return to Wuxi so they could take him on  vacation  themselves, but he declined saying he would stay with his friend till after the congress ends. He is now avoiding their calls. Reuters could not independently confirm Wu s comments. Chinese state security does not have a public phone number, fax number or website.     Xi has overseen a sweeping crackdown on rights lawyers and activists since coming to power in 2012, jailing dozens, in what rights groups say is a coordinated attempt to quash dissent in China. New internet measures include rules that hold users accountable for critical posts even in private group chats and a renewed crackdown on technologies to circumvent restrictions.  Kit Chan, director of the Hong Kong-based China Human Rights Lawyers Concern Group, said that some recent detentions of activists represent a new direction in the crackdown as it shows the authorities are targeting smaller groups that draw attention to specific rights issues as much as their traditional focus on pro-democracy activists. Zhen Jianghua, for example, the founder of Human Rights Campaign in China, a grassroots organization based in the southern province of Guangzhou, was detained on Sept 1 in Zhuhai, a source close to Zhen who declined to be named told Reuters. The ministry of public security did not respond to a faxed request for comment about the targeting of grassroots organizations. A person who answered the phone at the Zhuhai public security bureau said she was not aware of Zhen s case. \"\n        ],\n        \"semantic_type\": \"\",\n        \"description\": \"\"\n      }\n    },\n    {\n      \"column\": \"label\",\n      \"properties\": {\n        \"dtype\": \"number\",\n        \"std\": 0.4992896609062317,\n        \"min\": 0.0,\n        \"max\": 1.0,\n        \"num_unique_values\": 2,\n        \"samples\": [\n          0.0,\n          1.0\n        ],\n        \"semantic_type\": \"\",\n        \"description\": \"\"\n      }\n    }\n  ]\n}",
              "type": "dataframe",
              "variable_name": "df"
            },
            "text/html": [
              "\n",
              "  <div id=\"df-ba48b506-184c-4859-b13c-cb3d76c559d8\" class=\"colab-df-container\">\n",
              "    <div>\n",
              "<style scoped>\n",
              "    .dataframe tbody tr th:only-of-type {\n",
              "        vertical-align: middle;\n",
              "    }\n",
              "\n",
              "    .dataframe tbody tr th {\n",
              "        vertical-align: top;\n",
              "    }\n",
              "\n",
              "    .dataframe thead th {\n",
              "        text-align: right;\n",
              "    }\n",
              "</style>\n",
              "<table border=\"1\" class=\"dataframe\">\n",
              "  <thead>\n",
              "    <tr style=\"text-align: right;\">\n",
              "      <th></th>\n",
              "      <th>text</th>\n",
              "      <th>label</th>\n",
              "    </tr>\n",
              "  </thead>\n",
              "  <tbody>\n",
              "    <tr>\n",
              "      <th>0</th>\n",
              "      <td>No comment is expected from Barack Obama Membe...</td>\n",
              "      <td>1.0</td>\n",
              "    </tr>\n",
              "    <tr>\n",
              "      <th>1</th>\n",
              "      <td>Did they post their votes for Hillary already?</td>\n",
              "      <td>1.0</td>\n",
              "    </tr>\n",
              "    <tr>\n",
              "      <th>2</th>\n",
              "      <td>Now, most of the demonstrators gathered last ...</td>\n",
              "      <td>1.0</td>\n",
              "    </tr>\n",
              "    <tr>\n",
              "      <th>3</th>\n",
              "      <td>A dozen politically active pastors came here f...</td>\n",
              "      <td>0.0</td>\n",
              "    </tr>\n",
              "    <tr>\n",
              "      <th>4</th>\n",
              "      <td>The RS-28 Sarmat missile, dubbed Satan 2, will...</td>\n",
              "      <td>1.0</td>\n",
              "    </tr>\n",
              "  </tbody>\n",
              "</table>\n",
              "</div>\n",
              "    <div class=\"colab-df-buttons\">\n",
              "\n",
              "  <div class=\"colab-df-container\">\n",
              "    <button class=\"colab-df-convert\" onclick=\"convertToInteractive('df-ba48b506-184c-4859-b13c-cb3d76c559d8')\"\n",
              "            title=\"Convert this dataframe to an interactive table.\"\n",
              "            style=\"display:none;\">\n",
              "\n",
              "  <svg xmlns=\"http://www.w3.org/2000/svg\" height=\"24px\" viewBox=\"0 -960 960 960\">\n",
              "    <path d=\"M120-120v-720h720v720H120Zm60-500h600v-160H180v160Zm220 220h160v-160H400v160Zm0 220h160v-160H400v160ZM180-400h160v-160H180v160Zm440 0h160v-160H620v160ZM180-180h160v-160H180v160Zm440 0h160v-160H620v160Z\"/>\n",
              "  </svg>\n",
              "    </button>\n",
              "\n",
              "  <style>\n",
              "    .colab-df-container {\n",
              "      display:flex;\n",
              "      gap: 12px;\n",
              "    }\n",
              "\n",
              "    .colab-df-convert {\n",
              "      background-color: #E8F0FE;\n",
              "      border: none;\n",
              "      border-radius: 50%;\n",
              "      cursor: pointer;\n",
              "      display: none;\n",
              "      fill: #1967D2;\n",
              "      height: 32px;\n",
              "      padding: 0 0 0 0;\n",
              "      width: 32px;\n",
              "    }\n",
              "\n",
              "    .colab-df-convert:hover {\n",
              "      background-color: #E2EBFA;\n",
              "      box-shadow: 0px 1px 2px rgba(60, 64, 67, 0.3), 0px 1px 3px 1px rgba(60, 64, 67, 0.15);\n",
              "      fill: #174EA6;\n",
              "    }\n",
              "\n",
              "    .colab-df-buttons div {\n",
              "      margin-bottom: 4px;\n",
              "    }\n",
              "\n",
              "    [theme=dark] .colab-df-convert {\n",
              "      background-color: #3B4455;\n",
              "      fill: #D2E3FC;\n",
              "    }\n",
              "\n",
              "    [theme=dark] .colab-df-convert:hover {\n",
              "      background-color: #434B5C;\n",
              "      box-shadow: 0px 1px 3px 1px rgba(0, 0, 0, 0.15);\n",
              "      filter: drop-shadow(0px 1px 2px rgba(0, 0, 0, 0.3));\n",
              "      fill: #FFFFFF;\n",
              "    }\n",
              "  </style>\n",
              "\n",
              "    <script>\n",
              "      const buttonEl =\n",
              "        document.querySelector('#df-ba48b506-184c-4859-b13c-cb3d76c559d8 button.colab-df-convert');\n",
              "      buttonEl.style.display =\n",
              "        google.colab.kernel.accessAllowed ? 'block' : 'none';\n",
              "\n",
              "      async function convertToInteractive(key) {\n",
              "        const element = document.querySelector('#df-ba48b506-184c-4859-b13c-cb3d76c559d8');\n",
              "        const dataTable =\n",
              "          await google.colab.kernel.invokeFunction('convertToInteractive',\n",
              "                                                    [key], {});\n",
              "        if (!dataTable) return;\n",
              "\n",
              "        const docLinkHtml = 'Like what you see? Visit the ' +\n",
              "          '<a target=\"_blank\" href=https://colab.research.google.com/notebooks/data_table.ipynb>data table notebook</a>'\n",
              "          + ' to learn more about interactive tables.';\n",
              "        element.innerHTML = '';\n",
              "        dataTable['output_type'] = 'display_data';\n",
              "        await google.colab.output.renderOutput(dataTable, element);\n",
              "        const docLink = document.createElement('div');\n",
              "        docLink.innerHTML = docLinkHtml;\n",
              "        element.appendChild(docLink);\n",
              "      }\n",
              "    </script>\n",
              "  </div>\n",
              "\n",
              "\n",
              "<div id=\"df-972d1929-ee3d-4b26-b9e4-8623feba0922\">\n",
              "  <button class=\"colab-df-quickchart\" onclick=\"quickchart('df-972d1929-ee3d-4b26-b9e4-8623feba0922')\"\n",
              "            title=\"Suggest charts\"\n",
              "            style=\"display:none;\">\n",
              "\n",
              "<svg xmlns=\"http://www.w3.org/2000/svg\" height=\"24px\"viewBox=\"0 0 24 24\"\n",
              "     width=\"24px\">\n",
              "    <g>\n",
              "        <path d=\"M19 3H5c-1.1 0-2 .9-2 2v14c0 1.1.9 2 2 2h14c1.1 0 2-.9 2-2V5c0-1.1-.9-2-2-2zM9 17H7v-7h2v7zm4 0h-2V7h2v10zm4 0h-2v-4h2v4z\"/>\n",
              "    </g>\n",
              "</svg>\n",
              "  </button>\n",
              "\n",
              "<style>\n",
              "  .colab-df-quickchart {\n",
              "      --bg-color: #E8F0FE;\n",
              "      --fill-color: #1967D2;\n",
              "      --hover-bg-color: #E2EBFA;\n",
              "      --hover-fill-color: #174EA6;\n",
              "      --disabled-fill-color: #AAA;\n",
              "      --disabled-bg-color: #DDD;\n",
              "  }\n",
              "\n",
              "  [theme=dark] .colab-df-quickchart {\n",
              "      --bg-color: #3B4455;\n",
              "      --fill-color: #D2E3FC;\n",
              "      --hover-bg-color: #434B5C;\n",
              "      --hover-fill-color: #FFFFFF;\n",
              "      --disabled-bg-color: #3B4455;\n",
              "      --disabled-fill-color: #666;\n",
              "  }\n",
              "\n",
              "  .colab-df-quickchart {\n",
              "    background-color: var(--bg-color);\n",
              "    border: none;\n",
              "    border-radius: 50%;\n",
              "    cursor: pointer;\n",
              "    display: none;\n",
              "    fill: var(--fill-color);\n",
              "    height: 32px;\n",
              "    padding: 0;\n",
              "    width: 32px;\n",
              "  }\n",
              "\n",
              "  .colab-df-quickchart:hover {\n",
              "    background-color: var(--hover-bg-color);\n",
              "    box-shadow: 0 1px 2px rgba(60, 64, 67, 0.3), 0 1px 3px 1px rgba(60, 64, 67, 0.15);\n",
              "    fill: var(--button-hover-fill-color);\n",
              "  }\n",
              "\n",
              "  .colab-df-quickchart-complete:disabled,\n",
              "  .colab-df-quickchart-complete:disabled:hover {\n",
              "    background-color: var(--disabled-bg-color);\n",
              "    fill: var(--disabled-fill-color);\n",
              "    box-shadow: none;\n",
              "  }\n",
              "\n",
              "  .colab-df-spinner {\n",
              "    border: 2px solid var(--fill-color);\n",
              "    border-color: transparent;\n",
              "    border-bottom-color: var(--fill-color);\n",
              "    animation:\n",
              "      spin 1s steps(1) infinite;\n",
              "  }\n",
              "\n",
              "  @keyframes spin {\n",
              "    0% {\n",
              "      border-color: transparent;\n",
              "      border-bottom-color: var(--fill-color);\n",
              "      border-left-color: var(--fill-color);\n",
              "    }\n",
              "    20% {\n",
              "      border-color: transparent;\n",
              "      border-left-color: var(--fill-color);\n",
              "      border-top-color: var(--fill-color);\n",
              "    }\n",
              "    30% {\n",
              "      border-color: transparent;\n",
              "      border-left-color: var(--fill-color);\n",
              "      border-top-color: var(--fill-color);\n",
              "      border-right-color: var(--fill-color);\n",
              "    }\n",
              "    40% {\n",
              "      border-color: transparent;\n",
              "      border-right-color: var(--fill-color);\n",
              "      border-top-color: var(--fill-color);\n",
              "    }\n",
              "    60% {\n",
              "      border-color: transparent;\n",
              "      border-right-color: var(--fill-color);\n",
              "    }\n",
              "    80% {\n",
              "      border-color: transparent;\n",
              "      border-right-color: var(--fill-color);\n",
              "      border-bottom-color: var(--fill-color);\n",
              "    }\n",
              "    90% {\n",
              "      border-color: transparent;\n",
              "      border-bottom-color: var(--fill-color);\n",
              "    }\n",
              "  }\n",
              "</style>\n",
              "\n",
              "  <script>\n",
              "    async function quickchart(key) {\n",
              "      const quickchartButtonEl =\n",
              "        document.querySelector('#' + key + ' button');\n",
              "      quickchartButtonEl.disabled = true;  // To prevent multiple clicks.\n",
              "      quickchartButtonEl.classList.add('colab-df-spinner');\n",
              "      try {\n",
              "        const charts = await google.colab.kernel.invokeFunction(\n",
              "            'suggestCharts', [key], {});\n",
              "      } catch (error) {\n",
              "        console.error('Error during call to suggestCharts:', error);\n",
              "      }\n",
              "      quickchartButtonEl.classList.remove('colab-df-spinner');\n",
              "      quickchartButtonEl.classList.add('colab-df-quickchart-complete');\n",
              "    }\n",
              "    (() => {\n",
              "      let quickchartButtonEl =\n",
              "        document.querySelector('#df-972d1929-ee3d-4b26-b9e4-8623feba0922 button');\n",
              "      quickchartButtonEl.style.display =\n",
              "        google.colab.kernel.accessAllowed ? 'block' : 'none';\n",
              "    })();\n",
              "  </script>\n",
              "</div>\n",
              "\n",
              "    </div>\n",
              "  </div>\n"
            ],
            "text/plain": [
              "                                                text  label\n",
              "0  No comment is expected from Barack Obama Membe...    1.0\n",
              "1     Did they post their votes for Hillary already?    1.0\n",
              "2   Now, most of the demonstrators gathered last ...    1.0\n",
              "3  A dozen politically active pastors came here f...    0.0\n",
              "4  The RS-28 Sarmat missile, dubbed Satan 2, will...    1.0"
            ]
          },
          "execution_count": 28,
          "metadata": {},
          "output_type": "execute_result"
        }
      ],
      "source": [
        "df.head()"
      ]
    },
    {
      "cell_type": "code",
      "execution_count": null,
      "metadata": {
        "colab": {
          "base_uri": "https://localhost:8080/"
        },
        "id": "qB2TI2fkP2_Z",
        "outputId": "2afa21c6-ec89-4c62-f5b9-e4aa536894b9"
      },
      "outputs": [
        {
          "data": {
            "text/plain": [
              "text     11\n",
              "label     0\n",
              "dtype: int64"
            ]
          },
          "execution_count": 29,
          "metadata": {},
          "output_type": "execute_result"
        }
      ],
      "source": [
        "df.dropna(subset=['label'], inplace=True)\n",
        "df.isnull().sum()"
      ]
    },
    {
      "cell_type": "markdown",
      "metadata": {
        "id": "qbwTwkCCf3Mv"
      },
      "source": [
        "#### Randomly shuffling the dataframe"
      ]
    },
    {
      "cell_type": "code",
      "execution_count": null,
      "metadata": {
        "id": "wD4wU6Onf3Mv"
      },
      "outputs": [],
      "source": [
        "df = df.sample(frac = 1)"
      ]
    },
    {
      "cell_type": "code",
      "execution_count": null,
      "metadata": {
        "colab": {
          "base_uri": "https://localhost:8080/",
          "height": 206
        },
        "id": "Y3_vEM9Gf3Mw",
        "outputId": "1a3e528c-73f4-4686-89bd-6b3dff6c3b89"
      },
      "outputs": [
        {
          "data": {
            "application/vnd.google.colaboratory.intrinsic+json": {
              "summary": "{\n  \"name\": \"df\",\n  \"rows\": 11555,\n  \"fields\": [\n    {\n      \"column\": \"text\",\n      \"properties\": {\n        \"dtype\": \"string\",\n        \"num_unique_values\": 7588,\n        \"samples\": [\n          \"Over the past decade, Christians in the United States have grown increasingly alarmed about the persecution of other Christians overseas, especially in the Middle East. With each priest kidnapped in Syria, each Christian family attacked in Iraq or each Coptic church bombed in Egypt, the clamor for action rose. During the campaign, Donald J. Trump picked up on these fears, speaking frequently of Christians who were refused entry to the United States and beheaded by terrorists of the Islamic State: \\u201cIf you\\u2019re a Christian, you have no chance,\\u201d he said in Ohio in November. Now, President Trump has followed through on his campaign promise to rescue Christians who are suffering. The executive order he signed on Friday gives preference to refugees who belong to a religious minority in their country, and have been persecuted for their religion. The president detailed his intentions during an interview with the Christian Broadcasting Network on Friday, saying his administration is giving priority to Christians because they had suffered \\u201cmore so\\u201d than others, \\u201cso we are going to help them. \\u201d But if Mr. Trump had hoped for Christian leaders to break out in cheers, that is, for the most part, not what he has heard so far. A broad array of clergy members has strongly denounced Mr. Trump\\u2019s order as discriminatory, misguided and inhumane. Outrage has also come from some of the evangelical, Roman Catholic and mainline Protestant leaders who represent the churches most active in trying to aid persecuted Christians. By giving preference to Christians over Muslims, religious leaders have said the executive order pits one faith against another. By barring any refugees from entering the United States for nearly four months, it leaves people to suffer longer in camps, and prevents families from reuniting. Also, many religious leaders have said that putting an indefinite freeze on refugees from Syria, and cutting the total number of refugees admitted this year by 60, 000, shuts the door to those most in need. \\u201cWe believe in assisting all, regardless of their religious beliefs,\\u201d said Bishop Joe S. V\\u00e1squez, the chairman of the committee on migration for the United States Conference of Catholic Bishops. Jen Smyers, the director of policy and advocacy for the immigration and refugee program of Church World Service, a ministry affiliated with dozens of Christian denominations, called Friday a \\u201cshameful day\\u201d in United States history. It remains to be seen whether Mr. Trump\\u2019s executive order will find more support in the pews. During the campaign, Mr. Trump successfully mined many voters\\u2019 concern about national security and fear of Muslims. He earned the votes of four out of every five white evangelical Christians, and a majority of white Catholics, exit polls showed. In interviews on Sunday, churchgoers in several cities were sharply divided on the issue, including on whether Christian teachings supported giving priority to Christians. \\u201cLove thy neighbor\\u201d was cited more than once, and by both sides: It was seen as both a commandment to embrace all peoples and to defend one\\u2019s actual neighbors from harm. \\u201cYou look at a city like Mosul, which is one of the oldest Christian populations in the world,\\u201d said Mark Tanner, 52, a worshiper at Buckhead Church, an evangelical church in Atlanta, referring to the besieged Iraqi city. \\u201cThere\\u2019s a remnant there that want to stay there to be a Christian witness. \\u201d \\u201cSo yeah,\\u201d he continued. \\u201cWe should reach out to everyone, but we have to be real about it and as far as who you let come into the country. \\u201d Nmachi Abengowe, 62, a native of Nigeria who attends Oak Cliff Bible Fellowship in Dallas, cited    violence in Africa in defending Mr. Trump\\u2019s preference for Christian refugees. \\u201cThey believe in jihad,\\u201d he said of Muslims. \\u201cThey don\\u2019t have peace. Peace comes from Jesus Christ. \\u201d That was not the view of Makeisha Robey, 39, who was at the Atlanta church. \\u201cI think that is just completely opposite what it means to be a Christian,\\u201d she said. \\u201cGod\\u2019s love was not for you specifically. It\\u2019s actually for everyone, and it\\u2019s our job as Christians to kind of enforce that on this planet, to bring God\\u2019s love to everyone. \\u201d John and Noreen Yarwood, who attended Mass at the   of St. Joseph, a Catholic church in Brooklyn, said they feared that a policy of preference for Christians could in practice become a preference for certain denominations of Christianity over others. \\u201cWhat does this administration mean by Christian?\\u201d Mr. Yarwood, 37, asked. He said that refugees are deserving of help and mercy \\u201cbecause of desperation and poverty,\\u201d not because of their religion. \\u201cThis is not grace,\\u201d he said of the president\\u2019s order. \\u201cIt doesn\\u2019t follow Christian teachings. \\u201d Christian leaders who defended Mr. Trump\\u2019s executive order were rare this weekend. One of the few was the Rev. Franklin Graham, the son of the evangelist Billy Graham and the president of Samaritan\\u2019s Purse, an evangelical aid organization. Mr. Graham has long denounced Islam as \\u201cevil,\\u201d and in July 2015 proposed a ban on Muslims entering the United States as a solution to domestic terrorism, months before Mr. Trump made his first call for the same. In a statement on Saturday, Mr. Graham said of refugees, \\u201cWe need to be sure their philosophies related to freedom and liberty are in line with ours. \\u201d He added that those who followed Sharia law  \\u2014   a set of beliefs at the core of Islam  \\u2014   hold notions \\u201cultimately incompatible with the Constitution of this nation. \\u201d Jim Jacobson, the president of Christian Freedom International, which advocates for persecuted Christians, applauded the executive order and said, \\u201cThe Trump administration has given hope to persecuted Christians that their cases will finally be considered. \\u201d Among the claims Mr. Trump made at his campaign rallies was that the Obama administration had denied refugee status to Christians, and had given preference to Muslims. \\u201cHow unfair is that? How bad is that?\\u201d he told supporters at a rally in St. Clairsville, Ohio, interlaced with boasts about his \\u201ctremendous evangelical support. \\u201d The contention was consistent with the conspiracy theories held by some conservative Christians that Mr. Obama was secretly a Muslim, and that he was turning a blind eye to the suffering of Christians while using the reins of government to increase the Muslim population of the United States. But the claim is simply untrue. In 2016, the United States admitted almost as many Christian refugees (37, 521) as Muslim refugees (38, 901) according to the Pew Research Center. While only about one percent of the refugees from Syria resettled in the United States last year were Christian, the population of that country is 93 percent Muslim and only 5 percent Christian, according to Pew. And leaders of several refugee resettlement organizations said during interviews that it took 18 months to three years for most refugees to go through the vetting process to get into the United States. Many Syrian Christians got into the pipeline more recently. \\u201cWe have no evidence that would support a belief that the Obama administration was discriminating against Christian populations,\\u201d said the Rev. Scott Arbeiter, the president of World Relief, the humanitarian arm of National Association of Evangelicals. His organization has resettled thousands of Muslim refugees, with the help of a network of 1, 200 evangelical churches. Mr. Arbeiter said that World Relief is opposed to \\u201cany measure that would discriminate against the most vulnerable people in the world based on ethnicity, country of origin, religion, gender or gender identity. Our commitment is to serve vulnerable people without regard to those factors, or any others. \\u201d He said that World Relief had already gathered 12, 000 signatures from evangelical Christians for a petition opposing Mr. Trump\\u2019s executive order. \\u201cWe\\u2019re going to call out to our network, the 1, 200 churches that are actively involved,\\u201d he said, \\u201cand ask them to use their voices to change the narrative, to challenge the facts that drive the fear so high that people would accept this executive order. \\u201d\",\n          \"Here's   \\nIn the half-burned church of St Mary al-Tahira in Qaraqosh, several dozen Syriac Catholics are holding a mass in Aramaic amid the wreckage left by Isis . The upper part of the stone columns and the nave are scorched black by fire and the only artificial light comes from three or four candles flickering on an improvised altar. Isis fighters used the courtyard outside as a firing range and metal targets set at one end of it are riddled with bullets. \\nIn his sermon, the Syriac Catholic Bishop of Baghdad Yusuf Abba calls for the congregation to show cooperation and goodwill to all. But the people of Qaraqosh, an overwhelmingly Christian town 20 miles south east of Mosul , wonder just how much goodwill and cooperation they can expect in return. . \\nThe Christians are still traumatised by the disasters of the last two-and-a-half years. When Isis took Qaraqosh on 8 August 2014 it had a population of 44,000, almost all Syriac Catholics, who fled for their lives to Irbil, the capital of the Kurdistan Regional Government. Some 40 per cent of these have since migrated further to countries like Australia and France or, within the Middle East, to Istanbul and Lebanon. \\nBut the 28,000 people from Qaraqosh who stayed inside Iraq have understandable doubts about going home, even if Isis is fully defeated and loses Mosul. \\u201cThere is no security while Isis is still in Mosul,\\u201d says Yohanna Towara, a farmer, teacher and community leader in the town, but even when Isis is gone the Christians will be vulnerable. He says that \\u201cthe priority is for us to control our local affairs and to know who will rule the area in which we live.\\u201d He adds that the need for permanent security outweighs the need to repair the destruction wrought primarily by Isis but also by US-led air strikes. \\nThis destruction is bad enough, though it is not total. Isis fighters set fire to many ordinary houses in addition to the churches in the days before they left, but \\u2013 possibly because there was no furniture left to burn since it all had been looted \\u2013 most of these houses look as if they could be made habitable after extensive repairs. It will take time because not only has the furniture gone, but cookers and fridges so, even if light fittings or taps are still in place, there is no water or electricity. \\nIsis did not fight for Qaraqosh and there are no booby traps or improvised explosive devices. But they must at one time have thought of doing so because they dug networks of tunnels in the nearby Christian village of Karemlash as if they intended to wage an underground guerrilla war against the Iraqi army. In the event, there are few signs of Isis resistance, except the rather pathetic remains of burned out tyres which they set fire to in order to create a smoke haze to impede the visibility of the aircraft of the US-led coalition. There were not many air strikes, but where they did take place the results devastated whole buildings reducing them to heaps of rubble. \\nVisiting Qaraqosh from Irbil 40 miles away, it is easy to understand why people displaced from Qaraqosh and in the rest of the Nineveh Plain feel insecure and dubious about returning to their old homes, even where they are still standing. They know that if they do they will be at the mercy of Arab and Kurdish authorities eager to fill the vacuum left by the fall of Isis and wishing to stake new claims to territory and power. \\nArriving at a Kurdish Peshmerga checkpoint on the main road from the Kurdish region to Mosul at 9am, we make our way through crowds of people originally from Qaraqosh waiting to pass through. \\u201cSee how they are treating people,\\u201d says a critical Christian observer. \\u201cPeople have been waiting here since 5 or 6am, but the Peshmerga say they need a senior officer to give permission for them to pass.\\u201d \\nAfter another two Peshmerga checkpoints, we reach an Iraqi army checkpoint with whom the Christians have better relations. The Nineveh Plain east of Mosul was home to a mosaic of minorities and its abandoned villages show various levels of destruction, depending on their sectarian and ethnic complexion. For instance, some had once contained Sunni and Shia Shabak (a heterodox sect speaking a dialect of Kurdish), but Isis had destroyed the houses of the Shia but left the Sunni. \\nCloser to Qaraqosh the checkpoints are manned by soldiers of the Iraqi Army and local Christian members of the Nineveh Protection Units (NPU) with their multi-coloured red, white and blue flags. Relations between the NPU and the army appear good, but the soldiers are Shia and at one checkpoint they had laid out a table and were serving sweet tea and biscuits as part of the Shia Arbaeen commemoration. The diversity of officially-sanctioned armed groups appears never-ending: at some checkpoints there were also visible the dark uniforms of federal police, whom locals say are recruited from the Shabak and Turkmen communities. \\nFear of Isis had united diverse groupings and communities, but that unity is showing signs of fraying. The Peshmerga are excluded from fighting inside Mosul city, but are building a rampart and ditch to denote their front line. The Kurds may be pleased to see Isis defeated in Mosul, but if it is defeated by a reconstituted and effective Iraqi army \\u2013 very different from the large but ill-commanded and corrupt army that fled from Isis in 2014 \\u2013 then the balance of power in northern Iraq will change against the Kurds. \\nThe outcome of the war all over Iraq and Syria has ensured that minorities that were once spread throughout the two countries, now only feel secure if they can rule their own territory. But in Iraq the Christians do not have the numbers to defend themselves. (Reprinted from The Independent by permission of author or representative)\",\n          \"CANNON BALL, N.D. (Reuters) - Tribal leaders protesting the construction of a controversial North Dakota pipeline vowed on Tuesday to fight U.S. President Donald Trump\\u2019s order to revive the $3.8 billion project, calling his decision a \\u201cbad move.\\u201d Protesters have rallied for months against plans to route the Dakota Access pipeline under a lake near the Standing Rock Sioux reservation, saying it threatened water resources and sacred Native American sites. The tribe, which has fought to stop the pipeline since last year, won a major victory last month when the government denied Energy Transfer Partners LP the right to run the pipeline under Lake Oahe, a water source upstream from the reservation. Trump\\u2019s order instructed the Army and the Army Corps of Engineers to review the decision. The Republican president also signed an order reviving the C$8 billion ($6.1 billion) Keystone XL pipeline project, which was rejected in 2015 by then-President Barack Obama.   As a small airplane circled over the main protest camp near the Dakota Access pipeline on Tuesday, the mood following the White House\\u2019s announcement was calm but defiant. \\u201cI\\u2019m staying here,\\u201d Benjamin Buffalo, a 45-year-old Blackfeet tribal member from Browning, Montana, told a reporter. \\u201cI\\u2019m standing with the natives. This is our future.\\u201d  Buffalo has been at the camp since August, when tensions started to flare up between law enforcement officers and protesters, who have been backed by Hollywood celebrities, veterans and other activists.    The tribe had recently called for protesters to leave after the Army Corps of Engineers agreed to an environmental review last month, saying the battle had moved beyond the camp and into the courts or back rooms for negotiations with the government. The tribe also warned that the camp itself might contaminate the river if hit by heavy flooding in March, when waters are expected to rise. On Tuesday, Standing Rock leaders said they would meet in the coming days to plan next steps. Some said they feared fresh violence after past clashes between protesters and law enforcement officers. Dana Yellow Fat, Standing Rock Sioux tribal council member at large, called Trump\\u2019s order \\u201ca poor decision and a bad move\\u201d and said he worried about injuries if new violence broke out. \\u201cNow you\\u2019re going to see both sides gear up for even more actions on the ground because you have a group of people that is determined to stop that pipeline one way or another,\\u201d he told Reuters. Yellow Fat said he was unsure whether the tribe would back away from its request for protesters to leave the camp, but said Trump\\u2019s order has prompted \\u201ca total re-evaluation of our recent actions.\\u201d Since the exit of the Standing Rock Sioux, the camp has been less organized, with no regular sunrise prayers and communal kitchens that now only serve food sporadically. In some spots, tents are buried under snow and as many as 60 cars have been abandoned. Tribal officials expect the cleanup of the site to take about a month. The Morton County Sheriff\\u2019s Department urged activists to remain peaceful in light of Trump\\u2019s order and said they were bracing for a possible resurgence in protests. \\u201cWe\\u2019re preparing for anything that might come,\\u201d department spokeswoman Maxine Herr said. \\u201cWe continue to monitor the situation.\\u201d She declined to say whether additional officers would be sent to the protest site. Morton County spokesman Rob Keller on Monday said police had no plans to forcibly remove people from the campsite, where protesters now number 500 to 600, down from the nearly 10,000 once there. Many in the camp, some of them members of Native American tribes from other parts of the country, had already planned to defy the Standing Rock Sioux Tribe\\u2019s call to leave, saying the fight against the pipeline was not over. Forest Borie, 33, of Magalia, California, said the protest will only become more intense. \\u201cOur struggle to protect the planet is getting more intense, and the stakes are getting higher, said Borie, who has been at the camp since early November. \"\n        ],\n        \"semantic_type\": \"\",\n        \"description\": \"\"\n      }\n    },\n    {\n      \"column\": \"label\",\n      \"properties\": {\n        \"dtype\": \"number\",\n        \"std\": 0.4992896609062317,\n        \"min\": 0.0,\n        \"max\": 1.0,\n        \"num_unique_values\": 2,\n        \"samples\": [\n          0.0,\n          1.0\n        ],\n        \"semantic_type\": \"\",\n        \"description\": \"\"\n      }\n    }\n  ]\n}",
              "type": "dataframe",
              "variable_name": "df"
            },
            "text/html": [
              "\n",
              "  <div id=\"df-1f0707b9-f513-4752-afe3-e094912ff34a\" class=\"colab-df-container\">\n",
              "    <div>\n",
              "<style scoped>\n",
              "    .dataframe tbody tr th:only-of-type {\n",
              "        vertical-align: middle;\n",
              "    }\n",
              "\n",
              "    .dataframe tbody tr th {\n",
              "        vertical-align: top;\n",
              "    }\n",
              "\n",
              "    .dataframe thead th {\n",
              "        text-align: right;\n",
              "    }\n",
              "</style>\n",
              "<table border=\"1\" class=\"dataframe\">\n",
              "  <thead>\n",
              "    <tr style=\"text-align: right;\">\n",
              "      <th></th>\n",
              "      <th>text</th>\n",
              "      <th>label</th>\n",
              "    </tr>\n",
              "  </thead>\n",
              "  <tbody>\n",
              "    <tr>\n",
              "      <th>2369</th>\n",
              "      <td>FBI Director James Comey defied his boss s ins...</td>\n",
              "      <td>1.0</td>\n",
              "    </tr>\n",
              "    <tr>\n",
              "      <th>3691</th>\n",
              "      <td>The legendary anthropologist and expert on pri...</td>\n",
              "      <td>1.0</td>\n",
              "    </tr>\n",
              "    <tr>\n",
              "      <th>4405</th>\n",
              "      <td>WASHINGTON  —   In the end, she checked every ...</td>\n",
              "      <td>0.0</td>\n",
              "    </tr>\n",
              "    <tr>\n",
              "      <th>8567</th>\n",
              "      <td>By now you ve probably heard about the remarks...</td>\n",
              "      <td>1.0</td>\n",
              "    </tr>\n",
              "    <tr>\n",
              "      <th>5337</th>\n",
              "      <td>KARANGASEM, Indonesia (Reuters) - Nearly 135,0...</td>\n",
              "      <td>0.0</td>\n",
              "    </tr>\n",
              "  </tbody>\n",
              "</table>\n",
              "</div>\n",
              "    <div class=\"colab-df-buttons\">\n",
              "\n",
              "  <div class=\"colab-df-container\">\n",
              "    <button class=\"colab-df-convert\" onclick=\"convertToInteractive('df-1f0707b9-f513-4752-afe3-e094912ff34a')\"\n",
              "            title=\"Convert this dataframe to an interactive table.\"\n",
              "            style=\"display:none;\">\n",
              "\n",
              "  <svg xmlns=\"http://www.w3.org/2000/svg\" height=\"24px\" viewBox=\"0 -960 960 960\">\n",
              "    <path d=\"M120-120v-720h720v720H120Zm60-500h600v-160H180v160Zm220 220h160v-160H400v160Zm0 220h160v-160H400v160ZM180-400h160v-160H180v160Zm440 0h160v-160H620v160ZM180-180h160v-160H180v160Zm440 0h160v-160H620v160Z\"/>\n",
              "  </svg>\n",
              "    </button>\n",
              "\n",
              "  <style>\n",
              "    .colab-df-container {\n",
              "      display:flex;\n",
              "      gap: 12px;\n",
              "    }\n",
              "\n",
              "    .colab-df-convert {\n",
              "      background-color: #E8F0FE;\n",
              "      border: none;\n",
              "      border-radius: 50%;\n",
              "      cursor: pointer;\n",
              "      display: none;\n",
              "      fill: #1967D2;\n",
              "      height: 32px;\n",
              "      padding: 0 0 0 0;\n",
              "      width: 32px;\n",
              "    }\n",
              "\n",
              "    .colab-df-convert:hover {\n",
              "      background-color: #E2EBFA;\n",
              "      box-shadow: 0px 1px 2px rgba(60, 64, 67, 0.3), 0px 1px 3px 1px rgba(60, 64, 67, 0.15);\n",
              "      fill: #174EA6;\n",
              "    }\n",
              "\n",
              "    .colab-df-buttons div {\n",
              "      margin-bottom: 4px;\n",
              "    }\n",
              "\n",
              "    [theme=dark] .colab-df-convert {\n",
              "      background-color: #3B4455;\n",
              "      fill: #D2E3FC;\n",
              "    }\n",
              "\n",
              "    [theme=dark] .colab-df-convert:hover {\n",
              "      background-color: #434B5C;\n",
              "      box-shadow: 0px 1px 3px 1px rgba(0, 0, 0, 0.15);\n",
              "      filter: drop-shadow(0px 1px 2px rgba(0, 0, 0, 0.3));\n",
              "      fill: #FFFFFF;\n",
              "    }\n",
              "  </style>\n",
              "\n",
              "    <script>\n",
              "      const buttonEl =\n",
              "        document.querySelector('#df-1f0707b9-f513-4752-afe3-e094912ff34a button.colab-df-convert');\n",
              "      buttonEl.style.display =\n",
              "        google.colab.kernel.accessAllowed ? 'block' : 'none';\n",
              "\n",
              "      async function convertToInteractive(key) {\n",
              "        const element = document.querySelector('#df-1f0707b9-f513-4752-afe3-e094912ff34a');\n",
              "        const dataTable =\n",
              "          await google.colab.kernel.invokeFunction('convertToInteractive',\n",
              "                                                    [key], {});\n",
              "        if (!dataTable) return;\n",
              "\n",
              "        const docLinkHtml = 'Like what you see? Visit the ' +\n",
              "          '<a target=\"_blank\" href=https://colab.research.google.com/notebooks/data_table.ipynb>data table notebook</a>'\n",
              "          + ' to learn more about interactive tables.';\n",
              "        element.innerHTML = '';\n",
              "        dataTable['output_type'] = 'display_data';\n",
              "        await google.colab.output.renderOutput(dataTable, element);\n",
              "        const docLink = document.createElement('div');\n",
              "        docLink.innerHTML = docLinkHtml;\n",
              "        element.appendChild(docLink);\n",
              "      }\n",
              "    </script>\n",
              "  </div>\n",
              "\n",
              "\n",
              "<div id=\"df-d3c6cfe3-11f8-437d-a12b-bac9b6df3d94\">\n",
              "  <button class=\"colab-df-quickchart\" onclick=\"quickchart('df-d3c6cfe3-11f8-437d-a12b-bac9b6df3d94')\"\n",
              "            title=\"Suggest charts\"\n",
              "            style=\"display:none;\">\n",
              "\n",
              "<svg xmlns=\"http://www.w3.org/2000/svg\" height=\"24px\"viewBox=\"0 0 24 24\"\n",
              "     width=\"24px\">\n",
              "    <g>\n",
              "        <path d=\"M19 3H5c-1.1 0-2 .9-2 2v14c0 1.1.9 2 2 2h14c1.1 0 2-.9 2-2V5c0-1.1-.9-2-2-2zM9 17H7v-7h2v7zm4 0h-2V7h2v10zm4 0h-2v-4h2v4z\"/>\n",
              "    </g>\n",
              "</svg>\n",
              "  </button>\n",
              "\n",
              "<style>\n",
              "  .colab-df-quickchart {\n",
              "      --bg-color: #E8F0FE;\n",
              "      --fill-color: #1967D2;\n",
              "      --hover-bg-color: #E2EBFA;\n",
              "      --hover-fill-color: #174EA6;\n",
              "      --disabled-fill-color: #AAA;\n",
              "      --disabled-bg-color: #DDD;\n",
              "  }\n",
              "\n",
              "  [theme=dark] .colab-df-quickchart {\n",
              "      --bg-color: #3B4455;\n",
              "      --fill-color: #D2E3FC;\n",
              "      --hover-bg-color: #434B5C;\n",
              "      --hover-fill-color: #FFFFFF;\n",
              "      --disabled-bg-color: #3B4455;\n",
              "      --disabled-fill-color: #666;\n",
              "  }\n",
              "\n",
              "  .colab-df-quickchart {\n",
              "    background-color: var(--bg-color);\n",
              "    border: none;\n",
              "    border-radius: 50%;\n",
              "    cursor: pointer;\n",
              "    display: none;\n",
              "    fill: var(--fill-color);\n",
              "    height: 32px;\n",
              "    padding: 0;\n",
              "    width: 32px;\n",
              "  }\n",
              "\n",
              "  .colab-df-quickchart:hover {\n",
              "    background-color: var(--hover-bg-color);\n",
              "    box-shadow: 0 1px 2px rgba(60, 64, 67, 0.3), 0 1px 3px 1px rgba(60, 64, 67, 0.15);\n",
              "    fill: var(--button-hover-fill-color);\n",
              "  }\n",
              "\n",
              "  .colab-df-quickchart-complete:disabled,\n",
              "  .colab-df-quickchart-complete:disabled:hover {\n",
              "    background-color: var(--disabled-bg-color);\n",
              "    fill: var(--disabled-fill-color);\n",
              "    box-shadow: none;\n",
              "  }\n",
              "\n",
              "  .colab-df-spinner {\n",
              "    border: 2px solid var(--fill-color);\n",
              "    border-color: transparent;\n",
              "    border-bottom-color: var(--fill-color);\n",
              "    animation:\n",
              "      spin 1s steps(1) infinite;\n",
              "  }\n",
              "\n",
              "  @keyframes spin {\n",
              "    0% {\n",
              "      border-color: transparent;\n",
              "      border-bottom-color: var(--fill-color);\n",
              "      border-left-color: var(--fill-color);\n",
              "    }\n",
              "    20% {\n",
              "      border-color: transparent;\n",
              "      border-left-color: var(--fill-color);\n",
              "      border-top-color: var(--fill-color);\n",
              "    }\n",
              "    30% {\n",
              "      border-color: transparent;\n",
              "      border-left-color: var(--fill-color);\n",
              "      border-top-color: var(--fill-color);\n",
              "      border-right-color: var(--fill-color);\n",
              "    }\n",
              "    40% {\n",
              "      border-color: transparent;\n",
              "      border-right-color: var(--fill-color);\n",
              "      border-top-color: var(--fill-color);\n",
              "    }\n",
              "    60% {\n",
              "      border-color: transparent;\n",
              "      border-right-color: var(--fill-color);\n",
              "    }\n",
              "    80% {\n",
              "      border-color: transparent;\n",
              "      border-right-color: var(--fill-color);\n",
              "      border-bottom-color: var(--fill-color);\n",
              "    }\n",
              "    90% {\n",
              "      border-color: transparent;\n",
              "      border-bottom-color: var(--fill-color);\n",
              "    }\n",
              "  }\n",
              "</style>\n",
              "\n",
              "  <script>\n",
              "    async function quickchart(key) {\n",
              "      const quickchartButtonEl =\n",
              "        document.querySelector('#' + key + ' button');\n",
              "      quickchartButtonEl.disabled = true;  // To prevent multiple clicks.\n",
              "      quickchartButtonEl.classList.add('colab-df-spinner');\n",
              "      try {\n",
              "        const charts = await google.colab.kernel.invokeFunction(\n",
              "            'suggestCharts', [key], {});\n",
              "      } catch (error) {\n",
              "        console.error('Error during call to suggestCharts:', error);\n",
              "      }\n",
              "      quickchartButtonEl.classList.remove('colab-df-spinner');\n",
              "      quickchartButtonEl.classList.add('colab-df-quickchart-complete');\n",
              "    }\n",
              "    (() => {\n",
              "      let quickchartButtonEl =\n",
              "        document.querySelector('#df-d3c6cfe3-11f8-437d-a12b-bac9b6df3d94 button');\n",
              "      quickchartButtonEl.style.display =\n",
              "        google.colab.kernel.accessAllowed ? 'block' : 'none';\n",
              "    })();\n",
              "  </script>\n",
              "</div>\n",
              "\n",
              "    </div>\n",
              "  </div>\n"
            ],
            "text/plain": [
              "                                                   text  label\n",
              "2369  FBI Director James Comey defied his boss s ins...    1.0\n",
              "3691  The legendary anthropologist and expert on pri...    1.0\n",
              "4405  WASHINGTON  —   In the end, she checked every ...    0.0\n",
              "8567  By now you ve probably heard about the remarks...    1.0\n",
              "5337  KARANGASEM, Indonesia (Reuters) - Nearly 135,0...    0.0"
            ]
          },
          "execution_count": 31,
          "metadata": {},
          "output_type": "execute_result"
        }
      ],
      "source": [
        "df.head()"
      ]
    },
    {
      "cell_type": "code",
      "execution_count": null,
      "metadata": {
        "id": "g8YlX4Auf3Mw"
      },
      "outputs": [],
      "source": [
        "df.reset_index(inplace = True)\n",
        "df.drop([\"index\"], axis = 1, inplace = True)"
      ]
    },
    {
      "cell_type": "code",
      "execution_count": null,
      "metadata": {
        "id": "quUnK9UAf3Mw"
      },
      "outputs": [],
      "source": [
        "df.columns\n",
        "df['label'] = df['label'].astype(int)"
      ]
    },
    {
      "cell_type": "code",
      "execution_count": null,
      "metadata": {
        "colab": {
          "base_uri": "https://localhost:8080/",
          "height": 206
        },
        "id": "SpktJZmEf3Mw",
        "outputId": "1aa582e6-999b-43ee-ff0e-037db04c1265"
      },
      "outputs": [
        {
          "data": {
            "application/vnd.google.colaboratory.intrinsic+json": {
              "summary": "{\n  \"name\": \"df\",\n  \"rows\": 11555,\n  \"fields\": [\n    {\n      \"column\": \"text\",\n      \"properties\": {\n        \"dtype\": \"string\",\n        \"num_unique_values\": 7588,\n        \"samples\": [\n          \"Over the past decade, Christians in the United States have grown increasingly alarmed about the persecution of other Christians overseas, especially in the Middle East. With each priest kidnapped in Syria, each Christian family attacked in Iraq or each Coptic church bombed in Egypt, the clamor for action rose. During the campaign, Donald J. Trump picked up on these fears, speaking frequently of Christians who were refused entry to the United States and beheaded by terrorists of the Islamic State: \\u201cIf you\\u2019re a Christian, you have no chance,\\u201d he said in Ohio in November. Now, President Trump has followed through on his campaign promise to rescue Christians who are suffering. The executive order he signed on Friday gives preference to refugees who belong to a religious minority in their country, and have been persecuted for their religion. The president detailed his intentions during an interview with the Christian Broadcasting Network on Friday, saying his administration is giving priority to Christians because they had suffered \\u201cmore so\\u201d than others, \\u201cso we are going to help them. \\u201d But if Mr. Trump had hoped for Christian leaders to break out in cheers, that is, for the most part, not what he has heard so far. A broad array of clergy members has strongly denounced Mr. Trump\\u2019s order as discriminatory, misguided and inhumane. Outrage has also come from some of the evangelical, Roman Catholic and mainline Protestant leaders who represent the churches most active in trying to aid persecuted Christians. By giving preference to Christians over Muslims, religious leaders have said the executive order pits one faith against another. By barring any refugees from entering the United States for nearly four months, it leaves people to suffer longer in camps, and prevents families from reuniting. Also, many religious leaders have said that putting an indefinite freeze on refugees from Syria, and cutting the total number of refugees admitted this year by 60, 000, shuts the door to those most in need. \\u201cWe believe in assisting all, regardless of their religious beliefs,\\u201d said Bishop Joe S. V\\u00e1squez, the chairman of the committee on migration for the United States Conference of Catholic Bishops. Jen Smyers, the director of policy and advocacy for the immigration and refugee program of Church World Service, a ministry affiliated with dozens of Christian denominations, called Friday a \\u201cshameful day\\u201d in United States history. It remains to be seen whether Mr. Trump\\u2019s executive order will find more support in the pews. During the campaign, Mr. Trump successfully mined many voters\\u2019 concern about national security and fear of Muslims. He earned the votes of four out of every five white evangelical Christians, and a majority of white Catholics, exit polls showed. In interviews on Sunday, churchgoers in several cities were sharply divided on the issue, including on whether Christian teachings supported giving priority to Christians. \\u201cLove thy neighbor\\u201d was cited more than once, and by both sides: It was seen as both a commandment to embrace all peoples and to defend one\\u2019s actual neighbors from harm. \\u201cYou look at a city like Mosul, which is one of the oldest Christian populations in the world,\\u201d said Mark Tanner, 52, a worshiper at Buckhead Church, an evangelical church in Atlanta, referring to the besieged Iraqi city. \\u201cThere\\u2019s a remnant there that want to stay there to be a Christian witness. \\u201d \\u201cSo yeah,\\u201d he continued. \\u201cWe should reach out to everyone, but we have to be real about it and as far as who you let come into the country. \\u201d Nmachi Abengowe, 62, a native of Nigeria who attends Oak Cliff Bible Fellowship in Dallas, cited    violence in Africa in defending Mr. Trump\\u2019s preference for Christian refugees. \\u201cThey believe in jihad,\\u201d he said of Muslims. \\u201cThey don\\u2019t have peace. Peace comes from Jesus Christ. \\u201d That was not the view of Makeisha Robey, 39, who was at the Atlanta church. \\u201cI think that is just completely opposite what it means to be a Christian,\\u201d she said. \\u201cGod\\u2019s love was not for you specifically. It\\u2019s actually for everyone, and it\\u2019s our job as Christians to kind of enforce that on this planet, to bring God\\u2019s love to everyone. \\u201d John and Noreen Yarwood, who attended Mass at the   of St. Joseph, a Catholic church in Brooklyn, said they feared that a policy of preference for Christians could in practice become a preference for certain denominations of Christianity over others. \\u201cWhat does this administration mean by Christian?\\u201d Mr. Yarwood, 37, asked. He said that refugees are deserving of help and mercy \\u201cbecause of desperation and poverty,\\u201d not because of their religion. \\u201cThis is not grace,\\u201d he said of the president\\u2019s order. \\u201cIt doesn\\u2019t follow Christian teachings. \\u201d Christian leaders who defended Mr. Trump\\u2019s executive order were rare this weekend. One of the few was the Rev. Franklin Graham, the son of the evangelist Billy Graham and the president of Samaritan\\u2019s Purse, an evangelical aid organization. Mr. Graham has long denounced Islam as \\u201cevil,\\u201d and in July 2015 proposed a ban on Muslims entering the United States as a solution to domestic terrorism, months before Mr. Trump made his first call for the same. In a statement on Saturday, Mr. Graham said of refugees, \\u201cWe need to be sure their philosophies related to freedom and liberty are in line with ours. \\u201d He added that those who followed Sharia law  \\u2014   a set of beliefs at the core of Islam  \\u2014   hold notions \\u201cultimately incompatible with the Constitution of this nation. \\u201d Jim Jacobson, the president of Christian Freedom International, which advocates for persecuted Christians, applauded the executive order and said, \\u201cThe Trump administration has given hope to persecuted Christians that their cases will finally be considered. \\u201d Among the claims Mr. Trump made at his campaign rallies was that the Obama administration had denied refugee status to Christians, and had given preference to Muslims. \\u201cHow unfair is that? How bad is that?\\u201d he told supporters at a rally in St. Clairsville, Ohio, interlaced with boasts about his \\u201ctremendous evangelical support. \\u201d The contention was consistent with the conspiracy theories held by some conservative Christians that Mr. Obama was secretly a Muslim, and that he was turning a blind eye to the suffering of Christians while using the reins of government to increase the Muslim population of the United States. But the claim is simply untrue. In 2016, the United States admitted almost as many Christian refugees (37, 521) as Muslim refugees (38, 901) according to the Pew Research Center. While only about one percent of the refugees from Syria resettled in the United States last year were Christian, the population of that country is 93 percent Muslim and only 5 percent Christian, according to Pew. And leaders of several refugee resettlement organizations said during interviews that it took 18 months to three years for most refugees to go through the vetting process to get into the United States. Many Syrian Christians got into the pipeline more recently. \\u201cWe have no evidence that would support a belief that the Obama administration was discriminating against Christian populations,\\u201d said the Rev. Scott Arbeiter, the president of World Relief, the humanitarian arm of National Association of Evangelicals. His organization has resettled thousands of Muslim refugees, with the help of a network of 1, 200 evangelical churches. Mr. Arbeiter said that World Relief is opposed to \\u201cany measure that would discriminate against the most vulnerable people in the world based on ethnicity, country of origin, religion, gender or gender identity. Our commitment is to serve vulnerable people without regard to those factors, or any others. \\u201d He said that World Relief had already gathered 12, 000 signatures from evangelical Christians for a petition opposing Mr. Trump\\u2019s executive order. \\u201cWe\\u2019re going to call out to our network, the 1, 200 churches that are actively involved,\\u201d he said, \\u201cand ask them to use their voices to change the narrative, to challenge the facts that drive the fear so high that people would accept this executive order. \\u201d\",\n          \"Here's   \\nIn the half-burned church of St Mary al-Tahira in Qaraqosh, several dozen Syriac Catholics are holding a mass in Aramaic amid the wreckage left by Isis . The upper part of the stone columns and the nave are scorched black by fire and the only artificial light comes from three or four candles flickering on an improvised altar. Isis fighters used the courtyard outside as a firing range and metal targets set at one end of it are riddled with bullets. \\nIn his sermon, the Syriac Catholic Bishop of Baghdad Yusuf Abba calls for the congregation to show cooperation and goodwill to all. But the people of Qaraqosh, an overwhelmingly Christian town 20 miles south east of Mosul , wonder just how much goodwill and cooperation they can expect in return. . \\nThe Christians are still traumatised by the disasters of the last two-and-a-half years. When Isis took Qaraqosh on 8 August 2014 it had a population of 44,000, almost all Syriac Catholics, who fled for their lives to Irbil, the capital of the Kurdistan Regional Government. Some 40 per cent of these have since migrated further to countries like Australia and France or, within the Middle East, to Istanbul and Lebanon. \\nBut the 28,000 people from Qaraqosh who stayed inside Iraq have understandable doubts about going home, even if Isis is fully defeated and loses Mosul. \\u201cThere is no security while Isis is still in Mosul,\\u201d says Yohanna Towara, a farmer, teacher and community leader in the town, but even when Isis is gone the Christians will be vulnerable. He says that \\u201cthe priority is for us to control our local affairs and to know who will rule the area in which we live.\\u201d He adds that the need for permanent security outweighs the need to repair the destruction wrought primarily by Isis but also by US-led air strikes. \\nThis destruction is bad enough, though it is not total. Isis fighters set fire to many ordinary houses in addition to the churches in the days before they left, but \\u2013 possibly because there was no furniture left to burn since it all had been looted \\u2013 most of these houses look as if they could be made habitable after extensive repairs. It will take time because not only has the furniture gone, but cookers and fridges so, even if light fittings or taps are still in place, there is no water or electricity. \\nIsis did not fight for Qaraqosh and there are no booby traps or improvised explosive devices. But they must at one time have thought of doing so because they dug networks of tunnels in the nearby Christian village of Karemlash as if they intended to wage an underground guerrilla war against the Iraqi army. In the event, there are few signs of Isis resistance, except the rather pathetic remains of burned out tyres which they set fire to in order to create a smoke haze to impede the visibility of the aircraft of the US-led coalition. There were not many air strikes, but where they did take place the results devastated whole buildings reducing them to heaps of rubble. \\nVisiting Qaraqosh from Irbil 40 miles away, it is easy to understand why people displaced from Qaraqosh and in the rest of the Nineveh Plain feel insecure and dubious about returning to their old homes, even where they are still standing. They know that if they do they will be at the mercy of Arab and Kurdish authorities eager to fill the vacuum left by the fall of Isis and wishing to stake new claims to territory and power. \\nArriving at a Kurdish Peshmerga checkpoint on the main road from the Kurdish region to Mosul at 9am, we make our way through crowds of people originally from Qaraqosh waiting to pass through. \\u201cSee how they are treating people,\\u201d says a critical Christian observer. \\u201cPeople have been waiting here since 5 or 6am, but the Peshmerga say they need a senior officer to give permission for them to pass.\\u201d \\nAfter another two Peshmerga checkpoints, we reach an Iraqi army checkpoint with whom the Christians have better relations. The Nineveh Plain east of Mosul was home to a mosaic of minorities and its abandoned villages show various levels of destruction, depending on their sectarian and ethnic complexion. For instance, some had once contained Sunni and Shia Shabak (a heterodox sect speaking a dialect of Kurdish), but Isis had destroyed the houses of the Shia but left the Sunni. \\nCloser to Qaraqosh the checkpoints are manned by soldiers of the Iraqi Army and local Christian members of the Nineveh Protection Units (NPU) with their multi-coloured red, white and blue flags. Relations between the NPU and the army appear good, but the soldiers are Shia and at one checkpoint they had laid out a table and were serving sweet tea and biscuits as part of the Shia Arbaeen commemoration. The diversity of officially-sanctioned armed groups appears never-ending: at some checkpoints there were also visible the dark uniforms of federal police, whom locals say are recruited from the Shabak and Turkmen communities. \\nFear of Isis had united diverse groupings and communities, but that unity is showing signs of fraying. The Peshmerga are excluded from fighting inside Mosul city, but are building a rampart and ditch to denote their front line. The Kurds may be pleased to see Isis defeated in Mosul, but if it is defeated by a reconstituted and effective Iraqi army \\u2013 very different from the large but ill-commanded and corrupt army that fled from Isis in 2014 \\u2013 then the balance of power in northern Iraq will change against the Kurds. \\nThe outcome of the war all over Iraq and Syria has ensured that minorities that were once spread throughout the two countries, now only feel secure if they can rule their own territory. But in Iraq the Christians do not have the numbers to defend themselves. (Reprinted from The Independent by permission of author or representative)\",\n          \"CANNON BALL, N.D. (Reuters) - Tribal leaders protesting the construction of a controversial North Dakota pipeline vowed on Tuesday to fight U.S. President Donald Trump\\u2019s order to revive the $3.8 billion project, calling his decision a \\u201cbad move.\\u201d Protesters have rallied for months against plans to route the Dakota Access pipeline under a lake near the Standing Rock Sioux reservation, saying it threatened water resources and sacred Native American sites. The tribe, which has fought to stop the pipeline since last year, won a major victory last month when the government denied Energy Transfer Partners LP the right to run the pipeline under Lake Oahe, a water source upstream from the reservation. Trump\\u2019s order instructed the Army and the Army Corps of Engineers to review the decision. The Republican president also signed an order reviving the C$8 billion ($6.1 billion) Keystone XL pipeline project, which was rejected in 2015 by then-President Barack Obama.   As a small airplane circled over the main protest camp near the Dakota Access pipeline on Tuesday, the mood following the White House\\u2019s announcement was calm but defiant. \\u201cI\\u2019m staying here,\\u201d Benjamin Buffalo, a 45-year-old Blackfeet tribal member from Browning, Montana, told a reporter. \\u201cI\\u2019m standing with the natives. This is our future.\\u201d  Buffalo has been at the camp since August, when tensions started to flare up between law enforcement officers and protesters, who have been backed by Hollywood celebrities, veterans and other activists.    The tribe had recently called for protesters to leave after the Army Corps of Engineers agreed to an environmental review last month, saying the battle had moved beyond the camp and into the courts or back rooms for negotiations with the government. The tribe also warned that the camp itself might contaminate the river if hit by heavy flooding in March, when waters are expected to rise. On Tuesday, Standing Rock leaders said they would meet in the coming days to plan next steps. Some said they feared fresh violence after past clashes between protesters and law enforcement officers. Dana Yellow Fat, Standing Rock Sioux tribal council member at large, called Trump\\u2019s order \\u201ca poor decision and a bad move\\u201d and said he worried about injuries if new violence broke out. \\u201cNow you\\u2019re going to see both sides gear up for even more actions on the ground because you have a group of people that is determined to stop that pipeline one way or another,\\u201d he told Reuters. Yellow Fat said he was unsure whether the tribe would back away from its request for protesters to leave the camp, but said Trump\\u2019s order has prompted \\u201ca total re-evaluation of our recent actions.\\u201d Since the exit of the Standing Rock Sioux, the camp has been less organized, with no regular sunrise prayers and communal kitchens that now only serve food sporadically. In some spots, tents are buried under snow and as many as 60 cars have been abandoned. Tribal officials expect the cleanup of the site to take about a month. The Morton County Sheriff\\u2019s Department urged activists to remain peaceful in light of Trump\\u2019s order and said they were bracing for a possible resurgence in protests. \\u201cWe\\u2019re preparing for anything that might come,\\u201d department spokeswoman Maxine Herr said. \\u201cWe continue to monitor the situation.\\u201d She declined to say whether additional officers would be sent to the protest site. Morton County spokesman Rob Keller on Monday said police had no plans to forcibly remove people from the campsite, where protesters now number 500 to 600, down from the nearly 10,000 once there. Many in the camp, some of them members of Native American tribes from other parts of the country, had already planned to defy the Standing Rock Sioux Tribe\\u2019s call to leave, saying the fight against the pipeline was not over. Forest Borie, 33, of Magalia, California, said the protest will only become more intense. \\u201cOur struggle to protect the planet is getting more intense, and the stakes are getting higher, said Borie, who has been at the camp since early November. \"\n        ],\n        \"semantic_type\": \"\",\n        \"description\": \"\"\n      }\n    },\n    {\n      \"column\": \"label\",\n      \"properties\": {\n        \"dtype\": \"number\",\n        \"std\": 0,\n        \"min\": 0,\n        \"max\": 1,\n        \"num_unique_values\": 2,\n        \"samples\": [\n          0,\n          1\n        ],\n        \"semantic_type\": \"\",\n        \"description\": \"\"\n      }\n    }\n  ]\n}",
              "type": "dataframe",
              "variable_name": "df"
            },
            "text/html": [
              "\n",
              "  <div id=\"df-718514d7-cde3-4b96-95ec-cf06718a93ad\" class=\"colab-df-container\">\n",
              "    <div>\n",
              "<style scoped>\n",
              "    .dataframe tbody tr th:only-of-type {\n",
              "        vertical-align: middle;\n",
              "    }\n",
              "\n",
              "    .dataframe tbody tr th {\n",
              "        vertical-align: top;\n",
              "    }\n",
              "\n",
              "    .dataframe thead th {\n",
              "        text-align: right;\n",
              "    }\n",
              "</style>\n",
              "<table border=\"1\" class=\"dataframe\">\n",
              "  <thead>\n",
              "    <tr style=\"text-align: right;\">\n",
              "      <th></th>\n",
              "      <th>text</th>\n",
              "      <th>label</th>\n",
              "    </tr>\n",
              "  </thead>\n",
              "  <tbody>\n",
              "    <tr>\n",
              "      <th>0</th>\n",
              "      <td>FBI Director James Comey defied his boss s ins...</td>\n",
              "      <td>1</td>\n",
              "    </tr>\n",
              "    <tr>\n",
              "      <th>1</th>\n",
              "      <td>The legendary anthropologist and expert on pri...</td>\n",
              "      <td>1</td>\n",
              "    </tr>\n",
              "    <tr>\n",
              "      <th>2</th>\n",
              "      <td>WASHINGTON  —   In the end, she checked every ...</td>\n",
              "      <td>0</td>\n",
              "    </tr>\n",
              "    <tr>\n",
              "      <th>3</th>\n",
              "      <td>By now you ve probably heard about the remarks...</td>\n",
              "      <td>1</td>\n",
              "    </tr>\n",
              "    <tr>\n",
              "      <th>4</th>\n",
              "      <td>KARANGASEM, Indonesia (Reuters) - Nearly 135,0...</td>\n",
              "      <td>0</td>\n",
              "    </tr>\n",
              "  </tbody>\n",
              "</table>\n",
              "</div>\n",
              "    <div class=\"colab-df-buttons\">\n",
              "\n",
              "  <div class=\"colab-df-container\">\n",
              "    <button class=\"colab-df-convert\" onclick=\"convertToInteractive('df-718514d7-cde3-4b96-95ec-cf06718a93ad')\"\n",
              "            title=\"Convert this dataframe to an interactive table.\"\n",
              "            style=\"display:none;\">\n",
              "\n",
              "  <svg xmlns=\"http://www.w3.org/2000/svg\" height=\"24px\" viewBox=\"0 -960 960 960\">\n",
              "    <path d=\"M120-120v-720h720v720H120Zm60-500h600v-160H180v160Zm220 220h160v-160H400v160Zm0 220h160v-160H400v160ZM180-400h160v-160H180v160Zm440 0h160v-160H620v160ZM180-180h160v-160H180v160Zm440 0h160v-160H620v160Z\"/>\n",
              "  </svg>\n",
              "    </button>\n",
              "\n",
              "  <style>\n",
              "    .colab-df-container {\n",
              "      display:flex;\n",
              "      gap: 12px;\n",
              "    }\n",
              "\n",
              "    .colab-df-convert {\n",
              "      background-color: #E8F0FE;\n",
              "      border: none;\n",
              "      border-radius: 50%;\n",
              "      cursor: pointer;\n",
              "      display: none;\n",
              "      fill: #1967D2;\n",
              "      height: 32px;\n",
              "      padding: 0 0 0 0;\n",
              "      width: 32px;\n",
              "    }\n",
              "\n",
              "    .colab-df-convert:hover {\n",
              "      background-color: #E2EBFA;\n",
              "      box-shadow: 0px 1px 2px rgba(60, 64, 67, 0.3), 0px 1px 3px 1px rgba(60, 64, 67, 0.15);\n",
              "      fill: #174EA6;\n",
              "    }\n",
              "\n",
              "    .colab-df-buttons div {\n",
              "      margin-bottom: 4px;\n",
              "    }\n",
              "\n",
              "    [theme=dark] .colab-df-convert {\n",
              "      background-color: #3B4455;\n",
              "      fill: #D2E3FC;\n",
              "    }\n",
              "\n",
              "    [theme=dark] .colab-df-convert:hover {\n",
              "      background-color: #434B5C;\n",
              "      box-shadow: 0px 1px 3px 1px rgba(0, 0, 0, 0.15);\n",
              "      filter: drop-shadow(0px 1px 2px rgba(0, 0, 0, 0.3));\n",
              "      fill: #FFFFFF;\n",
              "    }\n",
              "  </style>\n",
              "\n",
              "    <script>\n",
              "      const buttonEl =\n",
              "        document.querySelector('#df-718514d7-cde3-4b96-95ec-cf06718a93ad button.colab-df-convert');\n",
              "      buttonEl.style.display =\n",
              "        google.colab.kernel.accessAllowed ? 'block' : 'none';\n",
              "\n",
              "      async function convertToInteractive(key) {\n",
              "        const element = document.querySelector('#df-718514d7-cde3-4b96-95ec-cf06718a93ad');\n",
              "        const dataTable =\n",
              "          await google.colab.kernel.invokeFunction('convertToInteractive',\n",
              "                                                    [key], {});\n",
              "        if (!dataTable) return;\n",
              "\n",
              "        const docLinkHtml = 'Like what you see? Visit the ' +\n",
              "          '<a target=\"_blank\" href=https://colab.research.google.com/notebooks/data_table.ipynb>data table notebook</a>'\n",
              "          + ' to learn more about interactive tables.';\n",
              "        element.innerHTML = '';\n",
              "        dataTable['output_type'] = 'display_data';\n",
              "        await google.colab.output.renderOutput(dataTable, element);\n",
              "        const docLink = document.createElement('div');\n",
              "        docLink.innerHTML = docLinkHtml;\n",
              "        element.appendChild(docLink);\n",
              "      }\n",
              "    </script>\n",
              "  </div>\n",
              "\n",
              "\n",
              "<div id=\"df-59d04bb6-b6eb-4e50-91c0-1754f23a536a\">\n",
              "  <button class=\"colab-df-quickchart\" onclick=\"quickchart('df-59d04bb6-b6eb-4e50-91c0-1754f23a536a')\"\n",
              "            title=\"Suggest charts\"\n",
              "            style=\"display:none;\">\n",
              "\n",
              "<svg xmlns=\"http://www.w3.org/2000/svg\" height=\"24px\"viewBox=\"0 0 24 24\"\n",
              "     width=\"24px\">\n",
              "    <g>\n",
              "        <path d=\"M19 3H5c-1.1 0-2 .9-2 2v14c0 1.1.9 2 2 2h14c1.1 0 2-.9 2-2V5c0-1.1-.9-2-2-2zM9 17H7v-7h2v7zm4 0h-2V7h2v10zm4 0h-2v-4h2v4z\"/>\n",
              "    </g>\n",
              "</svg>\n",
              "  </button>\n",
              "\n",
              "<style>\n",
              "  .colab-df-quickchart {\n",
              "      --bg-color: #E8F0FE;\n",
              "      --fill-color: #1967D2;\n",
              "      --hover-bg-color: #E2EBFA;\n",
              "      --hover-fill-color: #174EA6;\n",
              "      --disabled-fill-color: #AAA;\n",
              "      --disabled-bg-color: #DDD;\n",
              "  }\n",
              "\n",
              "  [theme=dark] .colab-df-quickchart {\n",
              "      --bg-color: #3B4455;\n",
              "      --fill-color: #D2E3FC;\n",
              "      --hover-bg-color: #434B5C;\n",
              "      --hover-fill-color: #FFFFFF;\n",
              "      --disabled-bg-color: #3B4455;\n",
              "      --disabled-fill-color: #666;\n",
              "  }\n",
              "\n",
              "  .colab-df-quickchart {\n",
              "    background-color: var(--bg-color);\n",
              "    border: none;\n",
              "    border-radius: 50%;\n",
              "    cursor: pointer;\n",
              "    display: none;\n",
              "    fill: var(--fill-color);\n",
              "    height: 32px;\n",
              "    padding: 0;\n",
              "    width: 32px;\n",
              "  }\n",
              "\n",
              "  .colab-df-quickchart:hover {\n",
              "    background-color: var(--hover-bg-color);\n",
              "    box-shadow: 0 1px 2px rgba(60, 64, 67, 0.3), 0 1px 3px 1px rgba(60, 64, 67, 0.15);\n",
              "    fill: var(--button-hover-fill-color);\n",
              "  }\n",
              "\n",
              "  .colab-df-quickchart-complete:disabled,\n",
              "  .colab-df-quickchart-complete:disabled:hover {\n",
              "    background-color: var(--disabled-bg-color);\n",
              "    fill: var(--disabled-fill-color);\n",
              "    box-shadow: none;\n",
              "  }\n",
              "\n",
              "  .colab-df-spinner {\n",
              "    border: 2px solid var(--fill-color);\n",
              "    border-color: transparent;\n",
              "    border-bottom-color: var(--fill-color);\n",
              "    animation:\n",
              "      spin 1s steps(1) infinite;\n",
              "  }\n",
              "\n",
              "  @keyframes spin {\n",
              "    0% {\n",
              "      border-color: transparent;\n",
              "      border-bottom-color: var(--fill-color);\n",
              "      border-left-color: var(--fill-color);\n",
              "    }\n",
              "    20% {\n",
              "      border-color: transparent;\n",
              "      border-left-color: var(--fill-color);\n",
              "      border-top-color: var(--fill-color);\n",
              "    }\n",
              "    30% {\n",
              "      border-color: transparent;\n",
              "      border-left-color: var(--fill-color);\n",
              "      border-top-color: var(--fill-color);\n",
              "      border-right-color: var(--fill-color);\n",
              "    }\n",
              "    40% {\n",
              "      border-color: transparent;\n",
              "      border-right-color: var(--fill-color);\n",
              "      border-top-color: var(--fill-color);\n",
              "    }\n",
              "    60% {\n",
              "      border-color: transparent;\n",
              "      border-right-color: var(--fill-color);\n",
              "    }\n",
              "    80% {\n",
              "      border-color: transparent;\n",
              "      border-right-color: var(--fill-color);\n",
              "      border-bottom-color: var(--fill-color);\n",
              "    }\n",
              "    90% {\n",
              "      border-color: transparent;\n",
              "      border-bottom-color: var(--fill-color);\n",
              "    }\n",
              "  }\n",
              "</style>\n",
              "\n",
              "  <script>\n",
              "    async function quickchart(key) {\n",
              "      const quickchartButtonEl =\n",
              "        document.querySelector('#' + key + ' button');\n",
              "      quickchartButtonEl.disabled = true;  // To prevent multiple clicks.\n",
              "      quickchartButtonEl.classList.add('colab-df-spinner');\n",
              "      try {\n",
              "        const charts = await google.colab.kernel.invokeFunction(\n",
              "            'suggestCharts', [key], {});\n",
              "      } catch (error) {\n",
              "        console.error('Error during call to suggestCharts:', error);\n",
              "      }\n",
              "      quickchartButtonEl.classList.remove('colab-df-spinner');\n",
              "      quickchartButtonEl.classList.add('colab-df-quickchart-complete');\n",
              "    }\n",
              "    (() => {\n",
              "      let quickchartButtonEl =\n",
              "        document.querySelector('#df-59d04bb6-b6eb-4e50-91c0-1754f23a536a button');\n",
              "      quickchartButtonEl.style.display =\n",
              "        google.colab.kernel.accessAllowed ? 'block' : 'none';\n",
              "    })();\n",
              "  </script>\n",
              "</div>\n",
              "\n",
              "    </div>\n",
              "  </div>\n"
            ],
            "text/plain": [
              "                                                text  label\n",
              "0  FBI Director James Comey defied his boss s ins...      1\n",
              "1  The legendary anthropologist and expert on pri...      1\n",
              "2  WASHINGTON  —   In the end, she checked every ...      0\n",
              "3  By now you ve probably heard about the remarks...      1\n",
              "4  KARANGASEM, Indonesia (Reuters) - Nearly 135,0...      0"
            ]
          },
          "execution_count": 34,
          "metadata": {},
          "output_type": "execute_result"
        }
      ],
      "source": [
        "df.head()"
      ]
    },
    {
      "cell_type": "markdown",
      "metadata": {
        "id": "aUkz3txef3Mw"
      },
      "source": [
        "#### Creating a function to convert the text in lowercase, remove the extra space, special chr., ulr and links."
      ]
    },
    {
      "cell_type": "code",
      "execution_count": null,
      "metadata": {
        "id": "KU01pY7Pf3Mw"
      },
      "outputs": [],
      "source": [
        "def wordopt(text):\n",
        "    text = text.lower()\n",
        "    text = re.sub('\\[.*?\\]', '', text)\n",
        "    text = re.sub(\"\\\\W\",\" \",text)\n",
        "    text = re.sub('https?://\\S+|www\\.\\S+', '', text)\n",
        "    text = re.sub('<.*?>+', '', text)\n",
        "    text = re.sub('[%s]' % re.escape(string.punctuation), '', text)\n",
        "    text = re.sub('\\n', '', text)\n",
        "    text = re.sub('\\w*\\d\\w*', '', text)\n",
        "    return text"
      ]
    },
    {
      "cell_type": "code",
      "execution_count": null,
      "metadata": {
        "id": "en4UXwEOf3Mw"
      },
      "outputs": [],
      "source": [
        "# df[\"text\"] = df[\"text\"].apply(wordopt)"
      ]
    },
    {
      "cell_type": "code",
      "execution_count": null,
      "metadata": {
        "colab": {
          "base_uri": "https://localhost:8080/"
        },
        "id": "RYzwkhWjHmsh",
        "outputId": "b3241e34-89f0-4837-f8be-0816c02f368a"
      },
      "outputs": [
        {
          "name": "stderr",
          "output_type": "stream",
          "text": [
            "[nltk_data] Downloading package stopwords to /root/nltk_data...\n",
            "[nltk_data]   Unzipping corpora/stopwords.zip.\n",
            "[nltk_data] Downloading package punkt to /root/nltk_data...\n",
            "[nltk_data]   Unzipping tokenizers/punkt.zip.\n"
          ]
        }
      ],
      "source": [
        "lemmatizer = WordNetLemmatizer()\n",
        "nltk.download('stopwords')\n",
        "nltk.download('punkt')\n",
        "stop_words = set(stopwords.words(\"english\"))\n",
        "\n",
        "# Function to preprocess df in the 'label' column\n",
        "def preprocess_text(df):\n",
        "    filter_sentence = []\n",
        "    df = re.sub(r'[^\\w\\s]', '', str(df))  # Cleaning\n",
        "    words = nltk.word_tokenize(df)  # Tokenization\n",
        "    words = [w for w in words if not w in stop_words]  # Stopwords removal\n",
        "    for word in words:\n",
        "        filter_sentence.append(lemmatizer.lemmatize(word))\n",
        "    return ' '.join(filter_sentence)\n",
        "\n",
        "# Apply text preprocessing to the 'label' column\n",
        "df['text'] = df['text'].apply(preprocess_text)\n"
      ]
    },
    {
      "cell_type": "code",
      "execution_count": null,
      "metadata": {
        "colab": {
          "base_uri": "https://localhost:8080/",
          "height": 206
        },
        "id": "7LWV7pY4svQJ",
        "outputId": "14dc6e1f-e438-48c9-c656-93c97948922b"
      },
      "outputs": [
        {
          "data": {
            "application/vnd.google.colaboratory.intrinsic+json": {
              "summary": "{\n  \"name\": \"df\",\n  \"rows\": 11555,\n  \"fields\": [\n    {\n      \"column\": \"text\",\n      \"properties\": {\n        \"dtype\": \"string\",\n        \"num_unique_values\": 7588,\n        \"samples\": [\n          \"Over past decade Christians United States grown increasingly alarmed persecution Christians overseas especially Middle East With priest kidnapped Syria Christian family attacked Iraq Coptic church bombed Egypt clamor action rose During campaign Donald J Trump picked fear speaking frequently Christians refused entry United States beheaded terrorist Islamic State If youre Christian chance said Ohio November Now President Trump followed campaign promise rescue Christians suffering The executive order signed Friday give preference refugee belong religious minority country persecuted religion The president detailed intention interview Christian Broadcasting Network Friday saying administration giving priority Christians suffered others going help But Mr Trump hoped Christian leader break cheer part heard far A broad array clergy member strongly denounced Mr Trumps order discriminatory misguided inhumane Outrage also come evangelical Roman Catholic mainline Protestant leader represent church active trying aid persecuted Christians By giving preference Christians Muslims religious leader said executive order pit one faith another By barring refugee entering United States nearly four month leaf people suffer longer camp prevents family reuniting Also many religious leader said putting indefinite freeze refugee Syria cutting total number refugee admitted year 60 000 shuts door need We believe assisting regardless religious belief said Bishop Joe S V\\u00e1squez chairman committee migration United States Conference Catholic Bishops Jen Smyers director policy advocacy immigration refugee program Church World Service ministry affiliated dozen Christian denomination called Friday shameful day United States history It remains seen whether Mr Trumps executive order find support pew During campaign Mr Trump successfully mined many voter concern national security fear Muslims He earned vote four every five white evangelical Christians majority white Catholics exit poll showed In interview Sunday churchgoer several city sharply divided issue including whether Christian teaching supported giving priority Christians Love thy neighbor cited side It seen commandment embrace people defend one actual neighbor harm You look city like Mosul one oldest Christian population world said Mark Tanner 52 worshiper Buckhead Church evangelical church Atlanta referring besieged Iraqi city Theres remnant want stay Christian witness So yeah continued We reach everyone real far let come country Nmachi Abengowe 62 native Nigeria attends Oak Cliff Bible Fellowship Dallas cited violence Africa defending Mr Trumps preference Christian refugee They believe jihad said Muslims They dont peace Peace come Jesus Christ That view Makeisha Robey 39 Atlanta church I think completely opposite mean Christian said Gods love specifically Its actually everyone job Christians kind enforce planet bring Gods love everyone John Noreen Yarwood attended Mass St Joseph Catholic church Brooklyn said feared policy preference Christians could practice become preference certain denomination Christianity others What administration mean Christian Mr Yarwood 37 asked He said refugee deserving help mercy desperation poverty religion This grace said president order It doesnt follow Christian teaching Christian leader defended Mr Trumps executive order rare weekend One Rev Franklin Graham son evangelist Billy Graham president Samaritans Purse evangelical aid organization Mr Graham long denounced Islam evil July 2015 proposed ban Muslims entering United States solution domestic terrorism month Mr Trump made first call In statement Saturday Mr Graham said refugee We need sure philosophy related freedom liberty line He added followed Sharia law set belief core Islam hold notion ultimately incompatible Constitution nation Jim Jacobson president Christian Freedom International advocate persecuted Christians applauded executive order said The Trump administration given hope persecuted Christians case finally considered Among claim Mr Trump made campaign rally Obama administration denied refugee status Christians given preference Muslims How unfair How bad told supporter rally St Clairsville Ohio interlaced boast tremendous evangelical support The contention consistent conspiracy theory held conservative Christians Mr Obama secretly Muslim turning blind eye suffering Christians using rein government increase Muslim population United States But claim simply untrue In 2016 United States admitted almost many Christian refugee 37 521 Muslim refugee 38 901 according Pew Research Center While one percent refugee Syria resettled United States last year Christian population country 93 percent Muslim 5 percent Christian according Pew And leader several refugee resettlement organization said interview took 18 month three year refugee go vetting process get United States Many Syrian Christians got pipeline recently We evidence would support belief Obama administration discriminating Christian population said Rev Scott Arbeiter president World Relief humanitarian arm National Association Evangelicals His organization resettled thousand Muslim refugee help network 1 200 evangelical church Mr Arbeiter said World Relief opposed measure would discriminate vulnerable people world based ethnicity country origin religion gender gender identity Our commitment serve vulnerable people without regard factor others He said World Relief already gathered 12 000 signature evangelical Christians petition opposing Mr Trumps executive order Were going call network 1 200 church actively involved said ask use voice change narrative challenge fact drive fear high people would accept executive order\",\n          \"Heres In halfburned church St Mary alTahira Qaraqosh several dozen Syriac Catholics holding mass Aramaic amid wreckage left Isis The upper part stone column nave scorched black fire artificial light come three four candle flickering improvised altar Isis fighter used courtyard outside firing range metal target set one end riddled bullet In sermon Syriac Catholic Bishop Baghdad Yusuf Abba call congregation show cooperation goodwill But people Qaraqosh overwhelmingly Christian town 20 mile south east Mosul wonder much goodwill cooperation expect return The Christians still traumatised disaster last twoandahalf year When Isis took Qaraqosh 8 August 2014 population 44000 almost Syriac Catholics fled life Irbil capital Kurdistan Regional Government Some 40 per cent since migrated country like Australia France within Middle East Istanbul Lebanon But 28000 people Qaraqosh stayed inside Iraq understandable doubt going home even Isis fully defeated loses Mosul There security Isis still Mosul say Yohanna Towara farmer teacher community leader town even Isis gone Christians vulnerable He say priority u control local affair know rule area live He add need permanent security outweighs need repair destruction wrought primarily Isis also USled air strike This destruction bad enough though total Isis fighter set fire many ordinary house addition church day left possibly furniture left burn since looted house look could made habitable extensive repair It take time furniture gone cooker fridge even light fitting tap still place water electricity Isis fight Qaraqosh booby trap improvised explosive device But must one time thought dug network tunnel nearby Christian village Karemlash intended wage underground guerrilla war Iraqi army In event sign Isis resistance except rather pathetic remains burned tyre set fire order create smoke haze impede visibility aircraft USled coalition There many air strike take place result devastated whole building reducing heap rubble Visiting Qaraqosh Irbil 40 mile away easy understand people displaced Qaraqosh rest Nineveh Plain feel insecure dubious returning old home even still standing They know mercy Arab Kurdish authority eager fill vacuum left fall Isis wishing stake new claim territory power Arriving Kurdish Peshmerga checkpoint main road Kurdish region Mosul 9am make way crowd people originally Qaraqosh waiting pas See treating people say critical Christian observer People waiting since 5 6am Peshmerga say need senior officer give permission pas After another two Peshmerga checkpoint reach Iraqi army checkpoint Christians better relation The Nineveh Plain east Mosul home mosaic minority abandoned village show various level destruction depending sectarian ethnic complexion For instance contained Sunni Shia Shabak heterodox sect speaking dialect Kurdish Isis destroyed house Shia left Sunni Closer Qaraqosh checkpoint manned soldier Iraqi Army local Christian member Nineveh Protection Units NPU multicoloured red white blue flag Relations NPU army appear good soldier Shia one checkpoint laid table serving sweet tea biscuit part Shia Arbaeen commemoration The diversity officiallysanctioned armed group appears neverending checkpoint also visible dark uniform federal police local say recruited Shabak Turkmen community Fear Isis united diverse grouping community unity showing sign fraying The Peshmerga excluded fighting inside Mosul city building rampart ditch denote front line The Kurds may pleased see Isis defeated Mosul defeated reconstituted effective Iraqi army different large illcommanded corrupt army fled Isis 2014 balance power northern Iraq change Kurds The outcome war Iraq Syria ensured minority spread throughout two country feel secure rule territory But Iraq Christians number defend Reprinted The Independent permission author representative\",\n          \"httpswwwyoutubecomwatchvhNPX8ZCIfc0t26s\"\n        ],\n        \"semantic_type\": \"\",\n        \"description\": \"\"\n      }\n    },\n    {\n      \"column\": \"label\",\n      \"properties\": {\n        \"dtype\": \"number\",\n        \"std\": 0,\n        \"min\": 0,\n        \"max\": 1,\n        \"num_unique_values\": 2,\n        \"samples\": [\n          0,\n          1\n        ],\n        \"semantic_type\": \"\",\n        \"description\": \"\"\n      }\n    }\n  ]\n}",
              "type": "dataframe",
              "variable_name": "df"
            },
            "text/html": [
              "\n",
              "  <div id=\"df-185877b9-cfcd-48d7-a662-0fb735e8496a\" class=\"colab-df-container\">\n",
              "    <div>\n",
              "<style scoped>\n",
              "    .dataframe tbody tr th:only-of-type {\n",
              "        vertical-align: middle;\n",
              "    }\n",
              "\n",
              "    .dataframe tbody tr th {\n",
              "        vertical-align: top;\n",
              "    }\n",
              "\n",
              "    .dataframe thead th {\n",
              "        text-align: right;\n",
              "    }\n",
              "</style>\n",
              "<table border=\"1\" class=\"dataframe\">\n",
              "  <thead>\n",
              "    <tr style=\"text-align: right;\">\n",
              "      <th></th>\n",
              "      <th>text</th>\n",
              "      <th>label</th>\n",
              "    </tr>\n",
              "  </thead>\n",
              "  <tbody>\n",
              "    <tr>\n",
              "      <th>0</th>\n",
              "      <td>FBI Director James Comey defied bos instructio...</td>\n",
              "      <td>1</td>\n",
              "    </tr>\n",
              "    <tr>\n",
              "      <th>1</th>\n",
              "      <td>The legendary anthropologist expert primate ma...</td>\n",
              "      <td>1</td>\n",
              "    </tr>\n",
              "    <tr>\n",
              "      <th>2</th>\n",
              "      <td>WASHINGTON In end checked every box Elegant un...</td>\n",
              "      <td>0</td>\n",
              "    </tr>\n",
              "    <tr>\n",
              "      <th>3</th>\n",
              "      <td>By probably heard remark Clueless star Fox New...</td>\n",
              "      <td>1</td>\n",
              "    </tr>\n",
              "    <tr>\n",
              "      <th>4</th>\n",
              "      <td>KARANGASEM Indonesia Reuters Nearly 135000 peo...</td>\n",
              "      <td>0</td>\n",
              "    </tr>\n",
              "  </tbody>\n",
              "</table>\n",
              "</div>\n",
              "    <div class=\"colab-df-buttons\">\n",
              "\n",
              "  <div class=\"colab-df-container\">\n",
              "    <button class=\"colab-df-convert\" onclick=\"convertToInteractive('df-185877b9-cfcd-48d7-a662-0fb735e8496a')\"\n",
              "            title=\"Convert this dataframe to an interactive table.\"\n",
              "            style=\"display:none;\">\n",
              "\n",
              "  <svg xmlns=\"http://www.w3.org/2000/svg\" height=\"24px\" viewBox=\"0 -960 960 960\">\n",
              "    <path d=\"M120-120v-720h720v720H120Zm60-500h600v-160H180v160Zm220 220h160v-160H400v160Zm0 220h160v-160H400v160ZM180-400h160v-160H180v160Zm440 0h160v-160H620v160ZM180-180h160v-160H180v160Zm440 0h160v-160H620v160Z\"/>\n",
              "  </svg>\n",
              "    </button>\n",
              "\n",
              "  <style>\n",
              "    .colab-df-container {\n",
              "      display:flex;\n",
              "      gap: 12px;\n",
              "    }\n",
              "\n",
              "    .colab-df-convert {\n",
              "      background-color: #E8F0FE;\n",
              "      border: none;\n",
              "      border-radius: 50%;\n",
              "      cursor: pointer;\n",
              "      display: none;\n",
              "      fill: #1967D2;\n",
              "      height: 32px;\n",
              "      padding: 0 0 0 0;\n",
              "      width: 32px;\n",
              "    }\n",
              "\n",
              "    .colab-df-convert:hover {\n",
              "      background-color: #E2EBFA;\n",
              "      box-shadow: 0px 1px 2px rgba(60, 64, 67, 0.3), 0px 1px 3px 1px rgba(60, 64, 67, 0.15);\n",
              "      fill: #174EA6;\n",
              "    }\n",
              "\n",
              "    .colab-df-buttons div {\n",
              "      margin-bottom: 4px;\n",
              "    }\n",
              "\n",
              "    [theme=dark] .colab-df-convert {\n",
              "      background-color: #3B4455;\n",
              "      fill: #D2E3FC;\n",
              "    }\n",
              "\n",
              "    [theme=dark] .colab-df-convert:hover {\n",
              "      background-color: #434B5C;\n",
              "      box-shadow: 0px 1px 3px 1px rgba(0, 0, 0, 0.15);\n",
              "      filter: drop-shadow(0px 1px 2px rgba(0, 0, 0, 0.3));\n",
              "      fill: #FFFFFF;\n",
              "    }\n",
              "  </style>\n",
              "\n",
              "    <script>\n",
              "      const buttonEl =\n",
              "        document.querySelector('#df-185877b9-cfcd-48d7-a662-0fb735e8496a button.colab-df-convert');\n",
              "      buttonEl.style.display =\n",
              "        google.colab.kernel.accessAllowed ? 'block' : 'none';\n",
              "\n",
              "      async function convertToInteractive(key) {\n",
              "        const element = document.querySelector('#df-185877b9-cfcd-48d7-a662-0fb735e8496a');\n",
              "        const dataTable =\n",
              "          await google.colab.kernel.invokeFunction('convertToInteractive',\n",
              "                                                    [key], {});\n",
              "        if (!dataTable) return;\n",
              "\n",
              "        const docLinkHtml = 'Like what you see? Visit the ' +\n",
              "          '<a target=\"_blank\" href=https://colab.research.google.com/notebooks/data_table.ipynb>data table notebook</a>'\n",
              "          + ' to learn more about interactive tables.';\n",
              "        element.innerHTML = '';\n",
              "        dataTable['output_type'] = 'display_data';\n",
              "        await google.colab.output.renderOutput(dataTable, element);\n",
              "        const docLink = document.createElement('div');\n",
              "        docLink.innerHTML = docLinkHtml;\n",
              "        element.appendChild(docLink);\n",
              "      }\n",
              "    </script>\n",
              "  </div>\n",
              "\n",
              "\n",
              "<div id=\"df-1f6ec925-c15e-4313-a74f-88040f16441a\">\n",
              "  <button class=\"colab-df-quickchart\" onclick=\"quickchart('df-1f6ec925-c15e-4313-a74f-88040f16441a')\"\n",
              "            title=\"Suggest charts\"\n",
              "            style=\"display:none;\">\n",
              "\n",
              "<svg xmlns=\"http://www.w3.org/2000/svg\" height=\"24px\"viewBox=\"0 0 24 24\"\n",
              "     width=\"24px\">\n",
              "    <g>\n",
              "        <path d=\"M19 3H5c-1.1 0-2 .9-2 2v14c0 1.1.9 2 2 2h14c1.1 0 2-.9 2-2V5c0-1.1-.9-2-2-2zM9 17H7v-7h2v7zm4 0h-2V7h2v10zm4 0h-2v-4h2v4z\"/>\n",
              "    </g>\n",
              "</svg>\n",
              "  </button>\n",
              "\n",
              "<style>\n",
              "  .colab-df-quickchart {\n",
              "      --bg-color: #E8F0FE;\n",
              "      --fill-color: #1967D2;\n",
              "      --hover-bg-color: #E2EBFA;\n",
              "      --hover-fill-color: #174EA6;\n",
              "      --disabled-fill-color: #AAA;\n",
              "      --disabled-bg-color: #DDD;\n",
              "  }\n",
              "\n",
              "  [theme=dark] .colab-df-quickchart {\n",
              "      --bg-color: #3B4455;\n",
              "      --fill-color: #D2E3FC;\n",
              "      --hover-bg-color: #434B5C;\n",
              "      --hover-fill-color: #FFFFFF;\n",
              "      --disabled-bg-color: #3B4455;\n",
              "      --disabled-fill-color: #666;\n",
              "  }\n",
              "\n",
              "  .colab-df-quickchart {\n",
              "    background-color: var(--bg-color);\n",
              "    border: none;\n",
              "    border-radius: 50%;\n",
              "    cursor: pointer;\n",
              "    display: none;\n",
              "    fill: var(--fill-color);\n",
              "    height: 32px;\n",
              "    padding: 0;\n",
              "    width: 32px;\n",
              "  }\n",
              "\n",
              "  .colab-df-quickchart:hover {\n",
              "    background-color: var(--hover-bg-color);\n",
              "    box-shadow: 0 1px 2px rgba(60, 64, 67, 0.3), 0 1px 3px 1px rgba(60, 64, 67, 0.15);\n",
              "    fill: var(--button-hover-fill-color);\n",
              "  }\n",
              "\n",
              "  .colab-df-quickchart-complete:disabled,\n",
              "  .colab-df-quickchart-complete:disabled:hover {\n",
              "    background-color: var(--disabled-bg-color);\n",
              "    fill: var(--disabled-fill-color);\n",
              "    box-shadow: none;\n",
              "  }\n",
              "\n",
              "  .colab-df-spinner {\n",
              "    border: 2px solid var(--fill-color);\n",
              "    border-color: transparent;\n",
              "    border-bottom-color: var(--fill-color);\n",
              "    animation:\n",
              "      spin 1s steps(1) infinite;\n",
              "  }\n",
              "\n",
              "  @keyframes spin {\n",
              "    0% {\n",
              "      border-color: transparent;\n",
              "      border-bottom-color: var(--fill-color);\n",
              "      border-left-color: var(--fill-color);\n",
              "    }\n",
              "    20% {\n",
              "      border-color: transparent;\n",
              "      border-left-color: var(--fill-color);\n",
              "      border-top-color: var(--fill-color);\n",
              "    }\n",
              "    30% {\n",
              "      border-color: transparent;\n",
              "      border-left-color: var(--fill-color);\n",
              "      border-top-color: var(--fill-color);\n",
              "      border-right-color: var(--fill-color);\n",
              "    }\n",
              "    40% {\n",
              "      border-color: transparent;\n",
              "      border-right-color: var(--fill-color);\n",
              "      border-top-color: var(--fill-color);\n",
              "    }\n",
              "    60% {\n",
              "      border-color: transparent;\n",
              "      border-right-color: var(--fill-color);\n",
              "    }\n",
              "    80% {\n",
              "      border-color: transparent;\n",
              "      border-right-color: var(--fill-color);\n",
              "      border-bottom-color: var(--fill-color);\n",
              "    }\n",
              "    90% {\n",
              "      border-color: transparent;\n",
              "      border-bottom-color: var(--fill-color);\n",
              "    }\n",
              "  }\n",
              "</style>\n",
              "\n",
              "  <script>\n",
              "    async function quickchart(key) {\n",
              "      const quickchartButtonEl =\n",
              "        document.querySelector('#' + key + ' button');\n",
              "      quickchartButtonEl.disabled = true;  // To prevent multiple clicks.\n",
              "      quickchartButtonEl.classList.add('colab-df-spinner');\n",
              "      try {\n",
              "        const charts = await google.colab.kernel.invokeFunction(\n",
              "            'suggestCharts', [key], {});\n",
              "      } catch (error) {\n",
              "        console.error('Error during call to suggestCharts:', error);\n",
              "      }\n",
              "      quickchartButtonEl.classList.remove('colab-df-spinner');\n",
              "      quickchartButtonEl.classList.add('colab-df-quickchart-complete');\n",
              "    }\n",
              "    (() => {\n",
              "      let quickchartButtonEl =\n",
              "        document.querySelector('#df-1f6ec925-c15e-4313-a74f-88040f16441a button');\n",
              "      quickchartButtonEl.style.display =\n",
              "        google.colab.kernel.accessAllowed ? 'block' : 'none';\n",
              "    })();\n",
              "  </script>\n",
              "</div>\n",
              "\n",
              "    </div>\n",
              "  </div>\n"
            ],
            "text/plain": [
              "                                                text  label\n",
              "0  FBI Director James Comey defied bos instructio...      1\n",
              "1  The legendary anthropologist expert primate ma...      1\n",
              "2  WASHINGTON In end checked every box Elegant un...      0\n",
              "3  By probably heard remark Clueless star Fox New...      1\n",
              "4  KARANGASEM Indonesia Reuters Nearly 135000 peo...      0"
            ]
          },
          "execution_count": 40,
          "metadata": {},
          "output_type": "execute_result"
        }
      ],
      "source": [
        "df.head()"
      ]
    },
    {
      "cell_type": "markdown",
      "metadata": {
        "id": "FFZ5BPHtf3Mx"
      },
      "source": [
        "#### Defining dependent and independent variable as x and y"
      ]
    },
    {
      "cell_type": "code",
      "execution_count": null,
      "metadata": {
        "id": "rg1KDZynf3Mx"
      },
      "outputs": [],
      "source": [
        "x = df[\"text\"]\n",
        "y = df[\"label\"]"
      ]
    },
    {
      "cell_type": "markdown",
      "metadata": {
        "id": "6Si5iQ1of3Mx"
      },
      "source": [
        "#### Splitting the dataset into training set and testing set."
      ]
    },
    {
      "cell_type": "code",
      "execution_count": null,
      "metadata": {
        "id": "fwZybyiTf3Mx"
      },
      "outputs": [],
      "source": [
        "x_train, x_test, y_train, y_test = train_test_split(x, y, test_size=0.25)"
      ]
    },
    {
      "cell_type": "markdown",
      "metadata": {
        "id": "e9FsWphXf3Mx"
      },
      "source": [
        "#### Convert text to vectors"
      ]
    },
    {
      "cell_type": "code",
      "execution_count": null,
      "metadata": {
        "id": "2EP4wJPnf3My"
      },
      "outputs": [],
      "source": [
        "from sklearn.feature_extraction.text import TfidfVectorizer"
      ]
    },
    {
      "cell_type": "code",
      "execution_count": null,
      "metadata": {
        "id": "h69qk8A9f3My"
      },
      "outputs": [],
      "source": [
        "vectorization = TfidfVectorizer()\n",
        "xv_train = vectorization.fit_transform(x_train)\n",
        "xv_test = vectorization.transform(x_test)"
      ]
    },
    {
      "cell_type": "markdown",
      "metadata": {
        "id": "uO3TaR1Nf3My"
      },
      "source": [
        "### 1. Logistic Regression"
      ]
    },
    {
      "cell_type": "code",
      "execution_count": null,
      "metadata": {
        "id": "cuHbp-Lrf3My"
      },
      "outputs": [],
      "source": [
        "from sklearn.linear_model import LogisticRegression"
      ]
    },
    {
      "cell_type": "code",
      "execution_count": null,
      "metadata": {
        "colab": {
          "base_uri": "https://localhost:8080/",
          "height": 74
        },
        "id": "htoY48bkf3My",
        "outputId": "de18e786-eca6-4b15-9898-7d095c5a6878"
      },
      "outputs": [
        {
          "data": {
            "text/html": [
              "<style>#sk-container-id-1 {color: black;background-color: white;}#sk-container-id-1 pre{padding: 0;}#sk-container-id-1 div.sk-toggleable {background-color: white;}#sk-container-id-1 label.sk-toggleable__label {cursor: pointer;display: block;width: 100%;margin-bottom: 0;padding: 0.3em;box-sizing: border-box;text-align: center;}#sk-container-id-1 label.sk-toggleable__label-arrow:before {content: \"▸\";float: left;margin-right: 0.25em;color: #696969;}#sk-container-id-1 label.sk-toggleable__label-arrow:hover:before {color: black;}#sk-container-id-1 div.sk-estimator:hover label.sk-toggleable__label-arrow:before {color: black;}#sk-container-id-1 div.sk-toggleable__content {max-height: 0;max-width: 0;overflow: hidden;text-align: left;background-color: #f0f8ff;}#sk-container-id-1 div.sk-toggleable__content pre {margin: 0.2em;color: black;border-radius: 0.25em;background-color: #f0f8ff;}#sk-container-id-1 input.sk-toggleable__control:checked~div.sk-toggleable__content {max-height: 200px;max-width: 100%;overflow: auto;}#sk-container-id-1 input.sk-toggleable__control:checked~label.sk-toggleable__label-arrow:before {content: \"▾\";}#sk-container-id-1 div.sk-estimator input.sk-toggleable__control:checked~label.sk-toggleable__label {background-color: #d4ebff;}#sk-container-id-1 div.sk-label input.sk-toggleable__control:checked~label.sk-toggleable__label {background-color: #d4ebff;}#sk-container-id-1 input.sk-hidden--visually {border: 0;clip: rect(1px 1px 1px 1px);clip: rect(1px, 1px, 1px, 1px);height: 1px;margin: -1px;overflow: hidden;padding: 0;position: absolute;width: 1px;}#sk-container-id-1 div.sk-estimator {font-family: monospace;background-color: #f0f8ff;border: 1px dotted black;border-radius: 0.25em;box-sizing: border-box;margin-bottom: 0.5em;}#sk-container-id-1 div.sk-estimator:hover {background-color: #d4ebff;}#sk-container-id-1 div.sk-parallel-item::after {content: \"\";width: 100%;border-bottom: 1px solid gray;flex-grow: 1;}#sk-container-id-1 div.sk-label:hover label.sk-toggleable__label {background-color: #d4ebff;}#sk-container-id-1 div.sk-serial::before {content: \"\";position: absolute;border-left: 1px solid gray;box-sizing: border-box;top: 0;bottom: 0;left: 50%;z-index: 0;}#sk-container-id-1 div.sk-serial {display: flex;flex-direction: column;align-items: center;background-color: white;padding-right: 0.2em;padding-left: 0.2em;position: relative;}#sk-container-id-1 div.sk-item {position: relative;z-index: 1;}#sk-container-id-1 div.sk-parallel {display: flex;align-items: stretch;justify-content: center;background-color: white;position: relative;}#sk-container-id-1 div.sk-item::before, #sk-container-id-1 div.sk-parallel-item::before {content: \"\";position: absolute;border-left: 1px solid gray;box-sizing: border-box;top: 0;bottom: 0;left: 50%;z-index: -1;}#sk-container-id-1 div.sk-parallel-item {display: flex;flex-direction: column;z-index: 1;position: relative;background-color: white;}#sk-container-id-1 div.sk-parallel-item:first-child::after {align-self: flex-end;width: 50%;}#sk-container-id-1 div.sk-parallel-item:last-child::after {align-self: flex-start;width: 50%;}#sk-container-id-1 div.sk-parallel-item:only-child::after {width: 0;}#sk-container-id-1 div.sk-dashed-wrapped {border: 1px dashed gray;margin: 0 0.4em 0.5em 0.4em;box-sizing: border-box;padding-bottom: 0.4em;background-color: white;}#sk-container-id-1 div.sk-label label {font-family: monospace;font-weight: bold;display: inline-block;line-height: 1.2em;}#sk-container-id-1 div.sk-label-container {text-align: center;}#sk-container-id-1 div.sk-container {/* jupyter's `normalize.less` sets `[hidden] { display: none; }` but bootstrap.min.css set `[hidden] { display: none !important; }` so we also need the `!important` here to be able to override the default hidden behavior on the sphinx rendered scikit-learn.org. See: https://github.com/scikit-learn/scikit-learn/issues/21755 */display: inline-block !important;position: relative;}#sk-container-id-1 div.sk-text-repr-fallback {display: none;}</style><div id=\"sk-container-id-1\" class=\"sk-top-container\"><div class=\"sk-text-repr-fallback\"><pre>LogisticRegression()</pre><b>In a Jupyter environment, please rerun this cell to show the HTML representation or trust the notebook. <br />On GitHub, the HTML representation is unable to render, please try loading this page with nbviewer.org.</b></div><div class=\"sk-container\" hidden><div class=\"sk-item\"><div class=\"sk-estimator sk-toggleable\"><input class=\"sk-toggleable__control sk-hidden--visually\" id=\"sk-estimator-id-1\" type=\"checkbox\" checked><label for=\"sk-estimator-id-1\" class=\"sk-toggleable__label sk-toggleable__label-arrow\">LogisticRegression</label><div class=\"sk-toggleable__content\"><pre>LogisticRegression()</pre></div></div></div></div></div>"
            ],
            "text/plain": [
              "LogisticRegression()"
            ]
          },
          "execution_count": 46,
          "metadata": {},
          "output_type": "execute_result"
        }
      ],
      "source": [
        "LR = LogisticRegression()\n",
        "LR.fit(xv_train,y_train)"
      ]
    },
    {
      "cell_type": "code",
      "execution_count": null,
      "metadata": {
        "id": "I2A0gknef3My"
      },
      "outputs": [],
      "source": [
        "pred_lr=LR.predict(xv_test)"
      ]
    },
    {
      "cell_type": "code",
      "execution_count": null,
      "metadata": {
        "colab": {
          "base_uri": "https://localhost:8080/"
        },
        "id": "ERfSAckZf3My",
        "outputId": "3e56fa4d-dbb4-4f73-ffa5-1a6a7090732d"
      },
      "outputs": [
        {
          "data": {
            "text/plain": [
              "0.9415022499134649"
            ]
          },
          "execution_count": 48,
          "metadata": {},
          "output_type": "execute_result"
        }
      ],
      "source": [
        "LR.score(xv_test, y_test)"
      ]
    },
    {
      "cell_type": "code",
      "execution_count": null,
      "metadata": {
        "colab": {
          "base_uri": "https://localhost:8080/",
          "height": 448
        },
        "id": "Vn3BS6pHf3Mz",
        "outputId": "2781d628-a417-4d63-8667-7b4d81f8ee8b"
      },
      "outputs": [
        {
          "data": {
            "text/plain": [
              "<Axes: >"
            ]
          },
          "execution_count": 49,
          "metadata": {},
          "output_type": "execute_result"
        },
        {
          "data": {
            "image/png": "[encoded data removed]",
            "text/plain": [
              "<Figure size 640x480 with 2 Axes>"
            ]
          },
          "metadata": {},
          "output_type": "display_data"
        }
      ],
      "source": [
        "clf_report=classification_report(y_test, pred_lr,output_dict=True)\n",
        "sns.heatmap(pd.DataFrame(clf_report).iloc[:-1, :].T, annot=True,cmap='YlGnBu')"
      ]
    },
    {
      "cell_type": "markdown",
      "metadata": {
        "id": "Cguyo1i-f3Mz"
      },
      "source": [
        "### 2. Decision Tree Classification"
      ]
    },
    {
      "cell_type": "code",
      "execution_count": null,
      "metadata": {
        "id": "mJvhPiS-f3Mz"
      },
      "outputs": [],
      "source": [
        "from sklearn.tree import DecisionTreeClassifier"
      ]
    },
    {
      "cell_type": "code",
      "execution_count": null,
      "metadata": {
        "colab": {
          "base_uri": "https://localhost:8080/",
          "height": 74
        },
        "id": "70jN10U8f3Mz",
        "outputId": "5dd0f144-d9ab-4a34-9fa8-6327422667ca"
      },
      "outputs": [
        {
          "data": {
            "text/html": [
              "<style>#sk-container-id-2 {color: black;background-color: white;}#sk-container-id-2 pre{padding: 0;}#sk-container-id-2 div.sk-toggleable {background-color: white;}#sk-container-id-2 label.sk-toggleable__label {cursor: pointer;display: block;width: 100%;margin-bottom: 0;padding: 0.3em;box-sizing: border-box;text-align: center;}#sk-container-id-2 label.sk-toggleable__label-arrow:before {content: \"▸\";float: left;margin-right: 0.25em;color: #696969;}#sk-container-id-2 label.sk-toggleable__label-arrow:hover:before {color: black;}#sk-container-id-2 div.sk-estimator:hover label.sk-toggleable__label-arrow:before {color: black;}#sk-container-id-2 div.sk-toggleable__content {max-height: 0;max-width: 0;overflow: hidden;text-align: left;background-color: #f0f8ff;}#sk-container-id-2 div.sk-toggleable__content pre {margin: 0.2em;color: black;border-radius: 0.25em;background-color: #f0f8ff;}#sk-container-id-2 input.sk-toggleable__control:checked~div.sk-toggleable__content {max-height: 200px;max-width: 100%;overflow: auto;}#sk-container-id-2 input.sk-toggleable__control:checked~label.sk-toggleable__label-arrow:before {content: \"▾\";}#sk-container-id-2 div.sk-estimator input.sk-toggleable__control:checked~label.sk-toggleable__label {background-color: #d4ebff;}#sk-container-id-2 div.sk-label input.sk-toggleable__control:checked~label.sk-toggleable__label {background-color: #d4ebff;}#sk-container-id-2 input.sk-hidden--visually {border: 0;clip: rect(1px 1px 1px 1px);clip: rect(1px, 1px, 1px, 1px);height: 1px;margin: -1px;overflow: hidden;padding: 0;position: absolute;width: 1px;}#sk-container-id-2 div.sk-estimator {font-family: monospace;background-color: #f0f8ff;border: 1px dotted black;border-radius: 0.25em;box-sizing: border-box;margin-bottom: 0.5em;}#sk-container-id-2 div.sk-estimator:hover {background-color: #d4ebff;}#sk-container-id-2 div.sk-parallel-item::after {content: \"\";width: 100%;border-bottom: 1px solid gray;flex-grow: 1;}#sk-container-id-2 div.sk-label:hover label.sk-toggleable__label {background-color: #d4ebff;}#sk-container-id-2 div.sk-serial::before {content: \"\";position: absolute;border-left: 1px solid gray;box-sizing: border-box;top: 0;bottom: 0;left: 50%;z-index: 0;}#sk-container-id-2 div.sk-serial {display: flex;flex-direction: column;align-items: center;background-color: white;padding-right: 0.2em;padding-left: 0.2em;position: relative;}#sk-container-id-2 div.sk-item {position: relative;z-index: 1;}#sk-container-id-2 div.sk-parallel {display: flex;align-items: stretch;justify-content: center;background-color: white;position: relative;}#sk-container-id-2 div.sk-item::before, #sk-container-id-2 div.sk-parallel-item::before {content: \"\";position: absolute;border-left: 1px solid gray;box-sizing: border-box;top: 0;bottom: 0;left: 50%;z-index: -1;}#sk-container-id-2 div.sk-parallel-item {display: flex;flex-direction: column;z-index: 1;position: relative;background-color: white;}#sk-container-id-2 div.sk-parallel-item:first-child::after {align-self: flex-end;width: 50%;}#sk-container-id-2 div.sk-parallel-item:last-child::after {align-self: flex-start;width: 50%;}#sk-container-id-2 div.sk-parallel-item:only-child::after {width: 0;}#sk-container-id-2 div.sk-dashed-wrapped {border: 1px dashed gray;margin: 0 0.4em 0.5em 0.4em;box-sizing: border-box;padding-bottom: 0.4em;background-color: white;}#sk-container-id-2 div.sk-label label {font-family: monospace;font-weight: bold;display: inline-block;line-height: 1.2em;}#sk-container-id-2 div.sk-label-container {text-align: center;}#sk-container-id-2 div.sk-container {/* jupyter's `normalize.less` sets `[hidden] { display: none; }` but bootstrap.min.css set `[hidden] { display: none !important; }` so we also need the `!important` here to be able to override the default hidden behavior on the sphinx rendered scikit-learn.org. See: https://github.com/scikit-learn/scikit-learn/issues/21755 */display: inline-block !important;position: relative;}#sk-container-id-2 div.sk-text-repr-fallback {display: none;}</style><div id=\"sk-container-id-2\" class=\"sk-top-container\"><div class=\"sk-text-repr-fallback\"><pre>DecisionTreeClassifier()</pre><b>In a Jupyter environment, please rerun this cell to show the HTML representation or trust the notebook. <br />On GitHub, the HTML representation is unable to render, please try loading this page with nbviewer.org.</b></div><div class=\"sk-container\" hidden><div class=\"sk-item\"><div class=\"sk-estimator sk-toggleable\"><input class=\"sk-toggleable__control sk-hidden--visually\" id=\"sk-estimator-id-2\" type=\"checkbox\" checked><label for=\"sk-estimator-id-2\" class=\"sk-toggleable__label sk-toggleable__label-arrow\">DecisionTreeClassifier</label><div class=\"sk-toggleable__content\"><pre>DecisionTreeClassifier()</pre></div></div></div></div></div>"
            ],
            "text/plain": [
              "DecisionTreeClassifier()"
            ]
          },
          "execution_count": 51,
          "metadata": {},
          "output_type": "execute_result"
        }
      ],
      "source": [
        "DT = DecisionTreeClassifier()\n",
        "DT.fit(xv_train, y_train)"
      ]
    },
    {
      "cell_type": "code",
      "execution_count": null,
      "metadata": {
        "id": "15btk4prf3Mz"
      },
      "outputs": [],
      "source": [
        "pred_dt = DT.predict(xv_test)"
      ]
    },
    {
      "cell_type": "code",
      "execution_count": null,
      "metadata": {
        "colab": {
          "base_uri": "https://localhost:8080/"
        },
        "id": "2EaDNOS2f3Mz",
        "outputId": "4b3ee974-92a9-4ecc-90b0-1dfb82687d13"
      },
      "outputs": [
        {
          "data": {
            "text/plain": [
              "0.9439252336448598"
            ]
          },
          "execution_count": 53,
          "metadata": {},
          "output_type": "execute_result"
        }
      ],
      "source": [
        "DT.score(xv_test, y_test)"
      ]
    },
    {
      "cell_type": "code",
      "execution_count": null,
      "metadata": {
        "colab": {
          "base_uri": "https://localhost:8080/",
          "height": 448
        },
        "id": "iGokWK3xf3Mz",
        "outputId": "29da165c-db4f-40f3-a712-330e886d1921"
      },
      "outputs": [
        {
          "data": {
            "text/plain": [
              "<Axes: >"
            ]
          },
          "execution_count": 54,
          "metadata": {},
          "output_type": "execute_result"
        },
        {
          "data": {
            "image/png": "[encoded data removed]",
            "text/plain": [
              "<Figure size 640x480 with 2 Axes>"
            ]
          },
          "metadata": {},
          "output_type": "display_data"
        }
      ],
      "source": [
        "clf_report=classification_report(y_test, pred_dt,output_dict=True)\n",
        "sns.heatmap(pd.DataFrame(clf_report).iloc[:-1, :].T, annot=True,cmap='YlGnBu')"
      ]
    },
    {
      "cell_type": "markdown",
      "metadata": {
        "id": "E-9dzJr3f3M0"
      },
      "source": [
        "###3. GBC"
      ]
    },
    {
      "cell_type": "code",
      "execution_count": null,
      "metadata": {
        "id": "E_8stoumf3M0"
      },
      "outputs": [],
      "source": [
        "from sklearn.ensemble import GradientBoostingClassifier"
      ]
    },
    {
      "cell_type": "code",
      "execution_count": null,
      "metadata": {
        "colab": {
          "base_uri": "https://localhost:8080/",
          "height": 74
        },
        "id": "FNbKWshCf3M0",
        "outputId": "45b68e24-233e-4891-ddd8-d9b16216408c"
      },
      "outputs": [
        {
          "data": {
            "text/html": [
              "<style>#sk-container-id-3 {color: black;background-color: white;}#sk-container-id-3 pre{padding: 0;}#sk-container-id-3 div.sk-toggleable {background-color: white;}#sk-container-id-3 label.sk-toggleable__label {cursor: pointer;display: block;width: 100%;margin-bottom: 0;padding: 0.3em;box-sizing: border-box;text-align: center;}#sk-container-id-3 label.sk-toggleable__label-arrow:before {content: \"▸\";float: left;margin-right: 0.25em;color: #696969;}#sk-container-id-3 label.sk-toggleable__label-arrow:hover:before {color: black;}#sk-container-id-3 div.sk-estimator:hover label.sk-toggleable__label-arrow:before {color: black;}#sk-container-id-3 div.sk-toggleable__content {max-height: 0;max-width: 0;overflow: hidden;text-align: left;background-color: #f0f8ff;}#sk-container-id-3 div.sk-toggleable__content pre {margin: 0.2em;color: black;border-radius: 0.25em;background-color: #f0f8ff;}#sk-container-id-3 input.sk-toggleable__control:checked~div.sk-toggleable__content {max-height: 200px;max-width: 100%;overflow: auto;}#sk-container-id-3 input.sk-toggleable__control:checked~label.sk-toggleable__label-arrow:before {content: \"▾\";}#sk-container-id-3 div.sk-estimator input.sk-toggleable__control:checked~label.sk-toggleable__label {background-color: #d4ebff;}#sk-container-id-3 div.sk-label input.sk-toggleable__control:checked~label.sk-toggleable__label {background-color: #d4ebff;}#sk-container-id-3 input.sk-hidden--visually {border: 0;clip: rect(1px 1px 1px 1px);clip: rect(1px, 1px, 1px, 1px);height: 1px;margin: -1px;overflow: hidden;padding: 0;position: absolute;width: 1px;}#sk-container-id-3 div.sk-estimator {font-family: monospace;background-color: #f0f8ff;border: 1px dotted black;border-radius: 0.25em;box-sizing: border-box;margin-bottom: 0.5em;}#sk-container-id-3 div.sk-estimator:hover {background-color: #d4ebff;}#sk-container-id-3 div.sk-parallel-item::after {content: \"\";width: 100%;border-bottom: 1px solid gray;flex-grow: 1;}#sk-container-id-3 div.sk-label:hover label.sk-toggleable__label {background-color: #d4ebff;}#sk-container-id-3 div.sk-serial::before {content: \"\";position: absolute;border-left: 1px solid gray;box-sizing: border-box;top: 0;bottom: 0;left: 50%;z-index: 0;}#sk-container-id-3 div.sk-serial {display: flex;flex-direction: column;align-items: center;background-color: white;padding-right: 0.2em;padding-left: 0.2em;position: relative;}#sk-container-id-3 div.sk-item {position: relative;z-index: 1;}#sk-container-id-3 div.sk-parallel {display: flex;align-items: stretch;justify-content: center;background-color: white;position: relative;}#sk-container-id-3 div.sk-item::before, #sk-container-id-3 div.sk-parallel-item::before {content: \"\";position: absolute;border-left: 1px solid gray;box-sizing: border-box;top: 0;bottom: 0;left: 50%;z-index: -1;}#sk-container-id-3 div.sk-parallel-item {display: flex;flex-direction: column;z-index: 1;position: relative;background-color: white;}#sk-container-id-3 div.sk-parallel-item:first-child::after {align-self: flex-end;width: 50%;}#sk-container-id-3 div.sk-parallel-item:last-child::after {align-self: flex-start;width: 50%;}#sk-container-id-3 div.sk-parallel-item:only-child::after {width: 0;}#sk-container-id-3 div.sk-dashed-wrapped {border: 1px dashed gray;margin: 0 0.4em 0.5em 0.4em;box-sizing: border-box;padding-bottom: 0.4em;background-color: white;}#sk-container-id-3 div.sk-label label {font-family: monospace;font-weight: bold;display: inline-block;line-height: 1.2em;}#sk-container-id-3 div.sk-label-container {text-align: center;}#sk-container-id-3 div.sk-container {/* jupyter's `normalize.less` sets `[hidden] { display: none; }` but bootstrap.min.css set `[hidden] { display: none !important; }` so we also need the `!important` here to be able to override the default hidden behavior on the sphinx rendered scikit-learn.org. See: https://github.com/scikit-learn/scikit-learn/issues/21755 */display: inline-block !important;position: relative;}#sk-container-id-3 div.sk-text-repr-fallback {display: none;}</style><div id=\"sk-container-id-3\" class=\"sk-top-container\"><div class=\"sk-text-repr-fallback\"><pre>GradientBoostingClassifier(random_state=0)</pre><b>In a Jupyter environment, please rerun this cell to show the HTML representation or trust the notebook. <br />On GitHub, the HTML representation is unable to render, please try loading this page with nbviewer.org.</b></div><div class=\"sk-container\" hidden><div class=\"sk-item\"><div class=\"sk-estimator sk-toggleable\"><input class=\"sk-toggleable__control sk-hidden--visually\" id=\"sk-estimator-id-3\" type=\"checkbox\" checked><label for=\"sk-estimator-id-3\" class=\"sk-toggleable__label sk-toggleable__label-arrow\">GradientBoostingClassifier</label><div class=\"sk-toggleable__content\"><pre>GradientBoostingClassifier(random_state=0)</pre></div></div></div></div></div>"
            ],
            "text/plain": [
              "GradientBoostingClassifier(random_state=0)"
            ]
          },
          "execution_count": 56,
          "metadata": {},
          "output_type": "execute_result"
        }
      ],
      "source": [
        "GBC = GradientBoostingClassifier(random_state=0)\n",
        "GBC.fit(xv_train, y_train)"
      ]
    },
    {
      "cell_type": "code",
      "execution_count": null,
      "metadata": {
        "id": "9BEBwHOlf3M0"
      },
      "outputs": [],
      "source": [
        "pred_gbc = GBC.predict(xv_test)"
      ]
    },
    {
      "cell_type": "code",
      "execution_count": null,
      "metadata": {
        "colab": {
          "base_uri": "https://localhost:8080/"
        },
        "id": "Q1pZFScwf3M0",
        "outputId": "2d59d442-8f20-4fdf-ff3d-381cb4c05463"
      },
      "outputs": [
        {
          "data": {
            "text/plain": [
              "0.9328487365870544"
            ]
          },
          "execution_count": 58,
          "metadata": {},
          "output_type": "execute_result"
        }
      ],
      "source": [
        "GBC.score(xv_test, y_test)"
      ]
    },
    {
      "cell_type": "code",
      "execution_count": null,
      "metadata": {
        "colab": {
          "base_uri": "https://localhost:8080/",
          "height": 448
        },
        "id": "8fexTokVf3M0",
        "outputId": "0bd36cf5-b758-4d65-c8ea-598697b51884"
      },
      "outputs": [
        {
          "data": {
            "text/plain": [
              "<Axes: >"
            ]
          },
          "execution_count": 59,
          "metadata": {},
          "output_type": "execute_result"
        },
        {
          "data": {
            "image/png": "[encoded data removed]",
            "text/plain": [
              "<Figure size 640x480 with 2 Axes>"
            ]
          },
          "metadata": {},
          "output_type": "display_data"
        }
      ],
      "source": [
        "clf_report=classification_report(y_test, pred_gbc,output_dict=True)\n",
        "sns.heatmap(pd.DataFrame(clf_report).iloc[:-1, :].T, annot=True,cmap='YlGnBu')"
      ]
    },
    {
      "cell_type": "markdown",
      "metadata": {
        "id": "xaYDcH2jf3M0"
      },
      "source": [
        "### 4. Random Forest Classifier"
      ]
    },
    {
      "cell_type": "code",
      "execution_count": null,
      "metadata": {
        "id": "rusZo9vKf3M1"
      },
      "outputs": [],
      "source": [
        "from sklearn.ensemble import RandomForestClassifier"
      ]
    },
    {
      "cell_type": "code",
      "execution_count": null,
      "metadata": {
        "colab": {
          "base_uri": "https://localhost:8080/",
          "height": 74
        },
        "id": "Bf4IX6OTf3M1",
        "outputId": "5547cd77-e8d0-4599-ef4e-eb4703028c69"
      },
      "outputs": [
        {
          "data": {
            "text/html": [
              "<style>#sk-container-id-4 {color: black;background-color: white;}#sk-container-id-4 pre{padding: 0;}#sk-container-id-4 div.sk-toggleable {background-color: white;}#sk-container-id-4 label.sk-toggleable__label {cursor: pointer;display: block;width: 100%;margin-bottom: 0;padding: 0.3em;box-sizing: border-box;text-align: center;}#sk-container-id-4 label.sk-toggleable__label-arrow:before {content: \"▸\";float: left;margin-right: 0.25em;color: #696969;}#sk-container-id-4 label.sk-toggleable__label-arrow:hover:before {color: black;}#sk-container-id-4 div.sk-estimator:hover label.sk-toggleable__label-arrow:before {color: black;}#sk-container-id-4 div.sk-toggleable__content {max-height: 0;max-width: 0;overflow: hidden;text-align: left;background-color: #f0f8ff;}#sk-container-id-4 div.sk-toggleable__content pre {margin: 0.2em;color: black;border-radius: 0.25em;background-color: #f0f8ff;}#sk-container-id-4 input.sk-toggleable__control:checked~div.sk-toggleable__content {max-height: 200px;max-width: 100%;overflow: auto;}#sk-container-id-4 input.sk-toggleable__control:checked~label.sk-toggleable__label-arrow:before {content: \"▾\";}#sk-container-id-4 div.sk-estimator input.sk-toggleable__control:checked~label.sk-toggleable__label {background-color: #d4ebff;}#sk-container-id-4 div.sk-label input.sk-toggleable__control:checked~label.sk-toggleable__label {background-color: #d4ebff;}#sk-container-id-4 input.sk-hidden--visually {border: 0;clip: rect(1px 1px 1px 1px);clip: rect(1px, 1px, 1px, 1px);height: 1px;margin: -1px;overflow: hidden;padding: 0;position: absolute;width: 1px;}#sk-container-id-4 div.sk-estimator {font-family: monospace;background-color: #f0f8ff;border: 1px dotted black;border-radius: 0.25em;box-sizing: border-box;margin-bottom: 0.5em;}#sk-container-id-4 div.sk-estimator:hover {background-color: #d4ebff;}#sk-container-id-4 div.sk-parallel-item::after {content: \"\";width: 100%;border-bottom: 1px solid gray;flex-grow: 1;}#sk-container-id-4 div.sk-label:hover label.sk-toggleable__label {background-color: #d4ebff;}#sk-container-id-4 div.sk-serial::before {content: \"\";position: absolute;border-left: 1px solid gray;box-sizing: border-box;top: 0;bottom: 0;left: 50%;z-index: 0;}#sk-container-id-4 div.sk-serial {display: flex;flex-direction: column;align-items: center;background-color: white;padding-right: 0.2em;padding-left: 0.2em;position: relative;}#sk-container-id-4 div.sk-item {position: relative;z-index: 1;}#sk-container-id-4 div.sk-parallel {display: flex;align-items: stretch;justify-content: center;background-color: white;position: relative;}#sk-container-id-4 div.sk-item::before, #sk-container-id-4 div.sk-parallel-item::before {content: \"\";position: absolute;border-left: 1px solid gray;box-sizing: border-box;top: 0;bottom: 0;left: 50%;z-index: -1;}#sk-container-id-4 div.sk-parallel-item {display: flex;flex-direction: column;z-index: 1;position: relative;background-color: white;}#sk-container-id-4 div.sk-parallel-item:first-child::after {align-self: flex-end;width: 50%;}#sk-container-id-4 div.sk-parallel-item:last-child::after {align-self: flex-start;width: 50%;}#sk-container-id-4 div.sk-parallel-item:only-child::after {width: 0;}#sk-container-id-4 div.sk-dashed-wrapped {border: 1px dashed gray;margin: 0 0.4em 0.5em 0.4em;box-sizing: border-box;padding-bottom: 0.4em;background-color: white;}#sk-container-id-4 div.sk-label label {font-family: monospace;font-weight: bold;display: inline-block;line-height: 1.2em;}#sk-container-id-4 div.sk-label-container {text-align: center;}#sk-container-id-4 div.sk-container {/* jupyter's `normalize.less` sets `[hidden] { display: none; }` but bootstrap.min.css set `[hidden] { display: none !important; }` so we also need the `!important` here to be able to override the default hidden behavior on the sphinx rendered scikit-learn.org. See: https://github.com/scikit-learn/scikit-learn/issues/21755 */display: inline-block !important;position: relative;}#sk-container-id-4 div.sk-text-repr-fallback {display: none;}</style><div id=\"sk-container-id-4\" class=\"sk-top-container\"><div class=\"sk-text-repr-fallback\"><pre>RandomForestClassifier(random_state=0)</pre><b>In a Jupyter environment, please rerun this cell to show the HTML representation or trust the notebook. <br />On GitHub, the HTML representation is unable to render, please try loading this page with nbviewer.org.</b></div><div class=\"sk-container\" hidden><div class=\"sk-item\"><div class=\"sk-estimator sk-toggleable\"><input class=\"sk-toggleable__control sk-hidden--visually\" id=\"sk-estimator-id-4\" type=\"checkbox\" checked><label for=\"sk-estimator-id-4\" class=\"sk-toggleable__label sk-toggleable__label-arrow\">RandomForestClassifier</label><div class=\"sk-toggleable__content\"><pre>RandomForestClassifier(random_state=0)</pre></div></div></div></div></div>"
            ],
            "text/plain": [
              "RandomForestClassifier(random_state=0)"
            ]
          },
          "execution_count": 61,
          "metadata": {},
          "output_type": "execute_result"
        }
      ],
      "source": [
        "RFC = RandomForestClassifier(random_state=0)\n",
        "RFC.fit(xv_train, y_train)"
      ]
    },
    {
      "cell_type": "code",
      "execution_count": null,
      "metadata": {
        "id": "fSbdxSuaf3M1"
      },
      "outputs": [],
      "source": [
        "pred_rfc = RFC.predict(xv_test)"
      ]
    },
    {
      "cell_type": "code",
      "execution_count": null,
      "metadata": {
        "colab": {
          "base_uri": "https://localhost:8080/"
        },
        "id": "XZ1p1a9of3M1",
        "outputId": "63ef0426-f498-4e4c-8741-d3b9c62a1a96"
      },
      "outputs": [
        {
          "data": {
            "text/plain": [
              "0.953963309103496"
            ]
          },
          "execution_count": 63,
          "metadata": {},
          "output_type": "execute_result"
        }
      ],
      "source": [
        "RFC.score(xv_test, y_test)"
      ]
    },
    {
      "cell_type": "code",
      "execution_count": null,
      "metadata": {
        "colab": {
          "base_uri": "https://localhost:8080/",
          "height": 448
        },
        "id": "0fZaxBF-f3M1",
        "outputId": "111e0e45-122a-438f-adc1-58ee8622781a"
      },
      "outputs": [
        {
          "data": {
            "text/plain": [
              "<Axes: >"
            ]
          },
          "execution_count": 64,
          "metadata": {},
          "output_type": "execute_result"
        },
        {
          "data": {
            "image/png": "[encoded data removed]",
            "text/plain": [
              "<Figure size 640x480 with 2 Axes>"
            ]
          },
          "metadata": {},
          "output_type": "display_data"
        }
      ],
      "source": [
        "clf_report=classification_report(y_test, pred_rfc,output_dict=True)\n",
        "sns.heatmap(pd.DataFrame(clf_report).iloc[:-1, :].T, annot=True,cmap='YlGnBu')"
      ]
    },
    {
      "cell_type": "markdown",
      "metadata": {
        "id": "NSqvDsedf3M1"
      },
      "source": [
        "# Model Testing With Manual Entry\n",
        "\n",
        "### News"
      ]
    },
    {
      "cell_type": "code",
      "execution_count": null,
      "metadata": {
        "id": "QUUlYfT1f3M1"
      },
      "outputs": [],
      "source": [
        "def output_lable(n):\n",
        "    if n == 0:\n",
        "        return \"Fake News\"\n",
        "    elif n == 1:\n",
        "        return \"Not A Fake News\"\n",
        "\n",
        "def manual_testing(news):\n",
        "    testing_news = {\"text\":[news]}\n",
        "    new_def_test = pd.DataFrame(testing_news)\n",
        "    new_def_test[\"text\"] = new_def_test[\"text\"].apply(wordopt)\n",
        "    new_x_test = new_def_test[\"text\"]\n",
        "    new_xv_test = vectorization.transform(new_x_test)\n",
        "    pred_LR = LR.predict(new_xv_test)\n",
        "    pred_DT = DT.predict(new_xv_test)\n",
        "    pred_GBC = GBC.predict(new_xv_test)\n",
        "    pred_RFC = RFC.predict(new_xv_test)\n",
        "\n",
        "    return print(\"\\n\\nLR Prediction: {} \\nDT Prediction: {} \\nGBC Prediction: {} \\nRFC Prediction: {}\".format(output_lable(pred_LR[0]),\n",
        "                                                                                                              output_lable(pred_DT[0]),\n",
        "                                                                                                              output_lable(pred_GBC[0]),\n",
        "                                                                                                              output_lable(pred_RFC[0])))"
      ]
    },
    {
      "cell_type": "code",
      "execution_count": null,
      "metadata": {
        "id": "xyEtrhHAf3M2"
      },
      "outputs": [],
      "source": [
        "# news = str(input())\n",
        "# manual_testing(news)"
      ]
    }
  ],
  "metadata": {
    "colab": {
      "provenance": []
    },
    "kernelspec": {
      "display_name": "Python 3",
      "language": "python",
      "name": "python3"
    },
    "language_info": {
      "codemirror_mode": {
        "name": "ipython",
        "version": 3
      },
      "file_extension": ".py",
      "mimetype": "text/x-python",
      "name": "python",
      "nbconvert_exporter": "python",
      "pygments_lexer": "ipython3",
      "version": "3.8.5"
    }
  },
  "nbformat": 4,
  "nbformat_minor": 0
}
